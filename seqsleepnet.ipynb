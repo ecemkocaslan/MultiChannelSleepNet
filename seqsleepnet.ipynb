{
  "cells": [
    {
      "cell_type": "markdown",
      "metadata": {
        "id": "view-in-github",
        "colab_type": "text"
      },
      "source": [
        "<a href=\"https://colab.research.google.com/github/ecemkocaslan/MultiChannelSleepNet/blob/main/seqsleepnet.ipynb\" target=\"_parent\"><img src=\"https://colab.research.google.com/assets/colab-badge.svg\" alt=\"Open In Colab\"/></a>"
      ]
    },
    {
      "cell_type": "markdown",
      "metadata": {
        "id": "lzTZ55xWV2Jt"
      },
      "source": []
    },
    {
      "cell_type": "code",
      "source": [
        "!pip install mne\n"
      ],
      "metadata": {
        "colab": {
          "base_uri": "https://localhost:8080/"
        },
        "id": "DaHvWEjBzcSk",
        "outputId": "75544a3c-9a31-4ffd-cfd8-af19bf8d7ff9"
      },
      "execution_count": 1,
      "outputs": [
        {
          "output_type": "stream",
          "name": "stdout",
          "text": [
            "Collecting mne\n",
            "  Downloading mne-1.9.0-py3-none-any.whl.metadata (20 kB)\n",
            "Requirement already satisfied: decorator in /usr/local/lib/python3.11/dist-packages (from mne) (4.4.2)\n",
            "Requirement already satisfied: jinja2 in /usr/local/lib/python3.11/dist-packages (from mne) (3.1.6)\n",
            "Requirement already satisfied: lazy-loader>=0.3 in /usr/local/lib/python3.11/dist-packages (from mne) (0.4)\n",
            "Requirement already satisfied: matplotlib>=3.6 in /usr/local/lib/python3.11/dist-packages (from mne) (3.10.0)\n",
            "Requirement already satisfied: numpy<3,>=1.23 in /usr/local/lib/python3.11/dist-packages (from mne) (2.0.2)\n",
            "Requirement already satisfied: packaging in /usr/local/lib/python3.11/dist-packages (from mne) (24.2)\n",
            "Requirement already satisfied: pooch>=1.5 in /usr/local/lib/python3.11/dist-packages (from mne) (1.8.2)\n",
            "Requirement already satisfied: scipy>=1.9 in /usr/local/lib/python3.11/dist-packages (from mne) (1.14.1)\n",
            "Requirement already satisfied: tqdm in /usr/local/lib/python3.11/dist-packages (from mne) (4.67.1)\n",
            "Requirement already satisfied: contourpy>=1.0.1 in /usr/local/lib/python3.11/dist-packages (from matplotlib>=3.6->mne) (1.3.2)\n",
            "Requirement already satisfied: cycler>=0.10 in /usr/local/lib/python3.11/dist-packages (from matplotlib>=3.6->mne) (0.12.1)\n",
            "Requirement already satisfied: fonttools>=4.22.0 in /usr/local/lib/python3.11/dist-packages (from matplotlib>=3.6->mne) (4.57.0)\n",
            "Requirement already satisfied: kiwisolver>=1.3.1 in /usr/local/lib/python3.11/dist-packages (from matplotlib>=3.6->mne) (1.4.8)\n",
            "Requirement already satisfied: pillow>=8 in /usr/local/lib/python3.11/dist-packages (from matplotlib>=3.6->mne) (11.1.0)\n",
            "Requirement already satisfied: pyparsing>=2.3.1 in /usr/local/lib/python3.11/dist-packages (from matplotlib>=3.6->mne) (3.2.3)\n",
            "Requirement already satisfied: python-dateutil>=2.7 in /usr/local/lib/python3.11/dist-packages (from matplotlib>=3.6->mne) (2.8.2)\n",
            "Requirement already satisfied: platformdirs>=2.5.0 in /usr/local/lib/python3.11/dist-packages (from pooch>=1.5->mne) (4.3.7)\n",
            "Requirement already satisfied: requests>=2.19.0 in /usr/local/lib/python3.11/dist-packages (from pooch>=1.5->mne) (2.32.3)\n",
            "Requirement already satisfied: MarkupSafe>=2.0 in /usr/local/lib/python3.11/dist-packages (from jinja2->mne) (3.0.2)\n",
            "Requirement already satisfied: six>=1.5 in /usr/local/lib/python3.11/dist-packages (from python-dateutil>=2.7->matplotlib>=3.6->mne) (1.17.0)\n",
            "Requirement already satisfied: charset-normalizer<4,>=2 in /usr/local/lib/python3.11/dist-packages (from requests>=2.19.0->pooch>=1.5->mne) (3.4.1)\n",
            "Requirement already satisfied: idna<4,>=2.5 in /usr/local/lib/python3.11/dist-packages (from requests>=2.19.0->pooch>=1.5->mne) (3.10)\n",
            "Requirement already satisfied: urllib3<3,>=1.21.1 in /usr/local/lib/python3.11/dist-packages (from requests>=2.19.0->pooch>=1.5->mne) (2.3.0)\n",
            "Requirement already satisfied: certifi>=2017.4.17 in /usr/local/lib/python3.11/dist-packages (from requests>=2.19.0->pooch>=1.5->mne) (2025.1.31)\n",
            "Downloading mne-1.9.0-py3-none-any.whl (7.4 MB)\n",
            "\u001b[2K   \u001b[90m━━━━━━━━━━━━━━━━━━━━━━━━━━━━━━━━━━━━━━━━\u001b[0m \u001b[32m7.4/7.4 MB\u001b[0m \u001b[31m16.3 MB/s\u001b[0m eta \u001b[36m0:00:00\u001b[0m\n",
            "\u001b[?25hInstalling collected packages: mne\n",
            "Successfully installed mne-1.9.0\n"
          ]
        }
      ]
    },
    {
      "cell_type": "code",
      "execution_count": 2,
      "metadata": {
        "id": "cDoW_jACfTyP",
        "colab": {
          "base_uri": "https://localhost:8080/"
        },
        "outputId": "0db460aa-248a-4507-9a8a-db1ff3074af1"
      },
      "outputs": [
        {
          "output_type": "stream",
          "name": "stdout",
          "text": [
            "Mounted at /content/drive\n"
          ]
        }
      ],
      "source": [
        "from google.colab import drive\n",
        "drive.mount('/content/drive')\n",
        "\n"
      ]
    },
    {
      "cell_type": "code",
      "source": [
        "import os\n",
        "\n",
        "# Change the path if your files were saved elsewhere\n",
        "os.listdir('/content/drive/MyDrive/sleep-edf-telemetry')\n"
      ],
      "metadata": {
        "colab": {
          "base_uri": "https://localhost:8080/"
        },
        "id": "NtBDEEabvrUr",
        "outputId": "814c6859-2db4-4eae-9a92-ef2c8fa5cfed"
      },
      "execution_count": 3,
      "outputs": [
        {
          "output_type": "execute_result",
          "data": {
            "text/plain": [
              "['ST7212JJ-Hypnogram.edf',\n",
              " 'ST7062JR-Hypnogram.edf',\n",
              " 'ST7012JP-Hypnogram.edf',\n",
              " 'ST7081JW-Hypnogram.edf',\n",
              " 'ST7112JE-Hypnogram.edf',\n",
              " 'ST7071JA-Hypnogram.edf',\n",
              " 'ST7051JA-Hypnogram.edf',\n",
              " 'ST7131JR-Hypnogram.edf',\n",
              " 'ST7111JE-Hypnogram.edf',\n",
              " 'ST7052J0-PSG.edf',\n",
              " 'ST7162JM-Hypnogram.edf',\n",
              " 'ST7241JO-Hypnogram.edf',\n",
              " 'ST7111J0-PSG.edf',\n",
              " 'ST7012J0-PSG.edf',\n",
              " 'ST7211JJ-Hypnogram.edf',\n",
              " 'ST7221J0-PSG.edf',\n",
              " 'ST7222J0-PSG.edf',\n",
              " 'ST7242JO-Hypnogram.edf',\n",
              " 'ST7201JO-Hypnogram.edf',\n",
              " 'ST7061J0-PSG.edf',\n",
              " 'ST7131J0-PSG.edf',\n",
              " 'ST7011JP-Hypnogram.edf',\n",
              " 'ST7212J0-PSG.edf',\n",
              " 'ST7052JA-Hypnogram.edf',\n",
              " 'ST7121JE-Hypnogram.edf',\n",
              " 'ST7142JE-Hypnogram.edf',\n",
              " 'ST7151J0-PSG.edf',\n",
              " 'ST7062J0-PSG.edf',\n",
              " 'ST7082J0-PSG.edf',\n",
              " 'ST7142J0-PSG.edf',\n",
              " 'ST7202J0-PSG.edf',\n",
              " 'ST7072JA-Hypnogram.edf',\n",
              " 'ST7021JM-Hypnogram.edf',\n",
              " 'ST7241J0-PSG.edf',\n",
              " 'ST7201J0-PSG.edf',\n",
              " 'ST7161J0-PSG.edf',\n",
              " 'ST7141J0-PSG.edf',\n",
              " 'ST7011J0-PSG.edf',\n",
              " 'ST7141JE-Hypnogram.edf',\n",
              " 'ST7061JR-Hypnogram.edf',\n",
              " 'ST7211J0-PSG.edf',\n",
              " 'ST7132J0-PSG.edf',\n",
              " 'ST7192J0-PSG.edf',\n",
              " 'ST7181J0-PSG.edf',\n",
              " 'ST7082JW-Hypnogram.edf',\n",
              " 'ST7171JA-Hypnogram.edf',\n",
              " 'ST7171J0-PSG.edf',\n",
              " 'ST7092J0-PSG.edf',\n",
              " 'ST7071J0-PSG.edf',\n",
              " 'ST7072J0-PSG.edf',\n",
              " 'ST7242J0-PSG.edf',\n",
              " 'ST7102J0-PSG.edf',\n",
              " 'ST7191JR-Hypnogram.edf',\n",
              " 'ST7041J0-PSG.edf',\n",
              " 'ST7091J0-PSG.edf',\n",
              " 'ST7081J0-PSG.edf',\n",
              " 'ST7152JA-Hypnogram.edf',\n",
              " 'ST7101J0-PSG.edf',\n",
              " 'ST7151JA-Hypnogram.edf',\n",
              " 'ST7152J0-PSG.edf',\n",
              " 'ST7122JE-Hypnogram.edf',\n",
              " 'ST7192JR-Hypnogram.edf',\n",
              " 'ST7202JO-Hypnogram.edf',\n",
              " 'ST7132JR-Hypnogram.edf',\n",
              " 'ST7091JE-Hypnogram.edf',\n",
              " 'ST7042J0-PSG.edf',\n",
              " 'ST7022JM-Hypnogram.edf',\n",
              " 'ST7161JM-Hypnogram.edf',\n",
              " 'ST7041JO-Hypnogram.edf',\n",
              " 'ST7181JR-Hypnogram.edf',\n",
              " 'ST7172JA-Hypnogram.edf',\n",
              " 'ST7042JO-Hypnogram.edf',\n",
              " 'ST7172J0-PSG.edf',\n",
              " 'ST7092JE-Hypnogram.edf',\n",
              " 'ST7191J0-PSG.edf',\n",
              " 'ST7122J0-PSG.edf',\n",
              " 'ST7222JA-Hypnogram.edf',\n",
              " 'ST7221JA-Hypnogram.edf',\n",
              " 'ST7112J0-PSG.edf',\n",
              " 'ST7182JR-Hypnogram.edf',\n",
              " 'ST7182J0-PSG.edf',\n",
              " 'ST7101JE-Hypnogram.edf',\n",
              " 'ST7121J0-PSG.edf',\n",
              " 'ST7102JE-Hypnogram.edf',\n",
              " 'ST7162J0-PSG.edf',\n",
              " 'ST7021J0-PSG.edf',\n",
              " 'ST7022J0-PSG.edf',\n",
              " 'ST7051J0-PSG.edf',\n",
              " 'X_sleepedf.npy',\n",
              " 'y_sleepedf.npy']"
            ]
          },
          "metadata": {},
          "execution_count": 3
        }
      ]
    },
    {
      "cell_type": "code",
      "source": [
        "!mkdir -p /content/drive/MyDrive/sleep-edf-telemetry\n"
      ],
      "metadata": {
        "id": "p9ZKV6jRvorW"
      },
      "execution_count": 15,
      "outputs": []
    },
    {
      "cell_type": "code",
      "execution_count": 18,
      "metadata": {
        "colab": {
          "base_uri": "https://localhost:8080/"
        },
        "id": "I-CjVg9ffvLe",
        "outputId": "e6f1bb50-8529-4df4-b0cb-ccacaf25b1e1"
      },
      "outputs": [
        {
          "output_type": "stream",
          "name": "stdout",
          "text": [
            "--2025-04-19 11:59:24--  https://physionet.org/files/sleep-edfx/1.0.0/sleep-telemetry/\n",
            "Resolving physionet.org (physionet.org)... 18.18.42.54\n",
            "Connecting to physionet.org (physionet.org)|18.18.42.54|:443... connected.\n",
            "HTTP request sent, awaiting response... 200 OK\n",
            "Length: unspecified [text/html]\n",
            "Saving to: ‘/content/drive/MyDrive/sleep-edf-telemetry/index.html.tmp’\n",
            "\n",
            "index.html.tmp          [ <=>                ]  10.90K  --.-KB/s    in 0.002s  \n",
            "\n",
            "2025-04-19 11:59:25 (6.28 MB/s) - ‘/content/drive/MyDrive/sleep-edf-telemetry/index.html.tmp’ saved [11165]\n",
            "\n",
            "Loading robots.txt; please ignore errors.\n",
            "--2025-04-19 11:59:25--  https://physionet.org/robots.txt\n",
            "Reusing existing connection to physionet.org:443.\n",
            "HTTP request sent, awaiting response... 200 OK\n",
            "Length: 22 [text/plain]\n",
            "Saving to: ‘/content/drive/MyDrive/sleep-edf-telemetry/robots.txt.tmp’\n",
            "\n",
            "robots.txt.tmp      100%[===================>]      22  --.-KB/s    in 0s      \n",
            "\n",
            "2025-04-19 11:59:25 (3.93 MB/s) - ‘/content/drive/MyDrive/sleep-edf-telemetry/robots.txt.tmp’ saved [22/22]\n",
            "\n",
            "Removing /content/drive/MyDrive/sleep-edf-telemetry/robots.txt.tmp.\n",
            "Removing /content/drive/MyDrive/sleep-edf-telemetry/index.html.tmp since it should be rejected.\n",
            "\n",
            "--2025-04-19 11:59:25--  https://physionet.org/files/sleep-edfx/1.0.0/sleep-telemetry/ST7011J0-PSG.edf\n",
            "Reusing existing connection to physionet.org:443.\n",
            "HTTP request sent, awaiting response... 200 OK\n",
            "Length: 29439536 (28M) [application/octet-stream]\n",
            "Saving to: ‘/content/drive/MyDrive/sleep-edf-telemetry/ST7011J0-PSG.edf’\n",
            "\n",
            "ST7011J0-PSG.edf    100%[===================>]  28.08M   249KB/s    in 1m 53s  \n",
            "\n",
            "2025-04-19 12:01:18 (254 KB/s) - ‘/content/drive/MyDrive/sleep-edf-telemetry/ST7011J0-PSG.edf’ saved [29439536/29439536]\n",
            "\n",
            "--2025-04-19 12:01:18--  https://physionet.org/files/sleep-edfx/1.0.0/sleep-telemetry/ST7011JP-Hypnogram.edf\n",
            "Reusing existing connection to physionet.org:443.\n",
            "HTTP request sent, awaiting response... 200 OK\n",
            "Length: 6356 (6.2K) [application/octet-stream]\n",
            "Saving to: ‘/content/drive/MyDrive/sleep-edf-telemetry/ST7011JP-Hypnogram.edf’\n",
            "\n",
            "ST7011JP-Hypnogram. 100%[===================>]   6.21K  --.-KB/s    in 0s      \n",
            "\n",
            "2025-04-19 12:01:19 (718 MB/s) - ‘/content/drive/MyDrive/sleep-edf-telemetry/ST7011JP-Hypnogram.edf’ saved [6356/6356]\n",
            "\n",
            "--2025-04-19 12:01:19--  https://physionet.org/files/sleep-edfx/1.0.0/sleep-telemetry/ST7012J0-PSG.edf\n",
            "Reusing existing connection to physionet.org:443.\n",
            "HTTP request sent, awaiting response... 200 OK\n",
            "Length: 25683936 (24M) [application/octet-stream]\n",
            "Saving to: ‘/content/drive/MyDrive/sleep-edf-telemetry/ST7012J0-PSG.edf’\n",
            "\n",
            "ST7012J0-PSG.edf    100%[===================>]  24.49M   316KB/s    in 92s     \n",
            "\n",
            "2025-04-19 12:02:51 (273 KB/s) - ‘/content/drive/MyDrive/sleep-edf-telemetry/ST7012J0-PSG.edf’ saved [25683936/25683936]\n",
            "\n",
            "--2025-04-19 12:02:51--  https://physionet.org/files/sleep-edfx/1.0.0/sleep-telemetry/ST7012JP-Hypnogram.edf\n",
            "Reusing existing connection to physionet.org:443.\n",
            "HTTP request sent, awaiting response... 200 OK\n",
            "Length: 4910 (4.8K) [application/octet-stream]\n",
            "Saving to: ‘/content/drive/MyDrive/sleep-edf-telemetry/ST7012JP-Hypnogram.edf’\n",
            "\n",
            "ST7012JP-Hypnogram. 100%[===================>]   4.79K  --.-KB/s    in 0s      \n",
            "\n",
            "2025-04-19 12:02:51 (188 MB/s) - ‘/content/drive/MyDrive/sleep-edf-telemetry/ST7012JP-Hypnogram.edf’ saved [4910/4910]\n",
            "\n",
            "--2025-04-19 12:02:51--  https://physionet.org/files/sleep-edfx/1.0.0/sleep-telemetry/ST7021J0-PSG.edf\n",
            "Reusing existing connection to physionet.org:443.\n",
            "HTTP request sent, awaiting response... 200 OK\n",
            "Length: 25093536 (24M) [application/octet-stream]\n",
            "Saving to: ‘/content/drive/MyDrive/sleep-edf-telemetry/ST7021J0-PSG.edf’\n",
            "\n",
            "ST7021J0-PSG.edf    100%[===================>]  23.93M   310KB/s    in 86s     \n",
            "\n",
            "2025-04-19 12:04:17 (285 KB/s) - ‘/content/drive/MyDrive/sleep-edf-telemetry/ST7021J0-PSG.edf’ saved [25093536/25093536]\n",
            "\n",
            "--2025-04-19 12:04:17--  https://physionet.org/files/sleep-edfx/1.0.0/sleep-telemetry/ST7021JM-Hypnogram.edf\n",
            "Reusing existing connection to physionet.org:443.\n",
            "HTTP request sent, awaiting response... 200 OK\n",
            "Length: 3942 (3.8K) [application/octet-stream]\n",
            "Saving to: ‘/content/drive/MyDrive/sleep-edf-telemetry/ST7021JM-Hypnogram.edf’\n",
            "\n",
            "ST7021JM-Hypnogram. 100%[===================>]   3.85K  --.-KB/s    in 0s      \n",
            "\n",
            "2025-04-19 12:04:18 (588 MB/s) - ‘/content/drive/MyDrive/sleep-edf-telemetry/ST7021JM-Hypnogram.edf’ saved [3942/3942]\n",
            "\n",
            "--2025-04-19 12:04:18--  https://physionet.org/files/sleep-edfx/1.0.0/sleep-telemetry/ST7022J0-PSG.edf\n",
            "Reusing existing connection to physionet.org:443.\n",
            "HTTP request sent, awaiting response... 200 OK\n",
            "Length: 25224736 (24M) [application/octet-stream]\n",
            "Saving to: ‘/content/drive/MyDrive/sleep-edf-telemetry/ST7022J0-PSG.edf’\n",
            "\n",
            "ST7022J0-PSG.edf    100%[===================>]  24.06M   282KB/s    in 98s     \n",
            "\n",
            "2025-04-19 12:05:56 (251 KB/s) - ‘/content/drive/MyDrive/sleep-edf-telemetry/ST7022J0-PSG.edf’ saved [25224736/25224736]\n",
            "\n",
            "--2025-04-19 12:05:56--  https://physionet.org/files/sleep-edfx/1.0.0/sleep-telemetry/ST7022JM-Hypnogram.edf\n",
            "Reusing existing connection to physionet.org:443.\n",
            "HTTP request sent, awaiting response... 200 OK\n",
            "Length: 4296 (4.2K) [application/octet-stream]\n",
            "Saving to: ‘/content/drive/MyDrive/sleep-edf-telemetry/ST7022JM-Hypnogram.edf’\n",
            "\n",
            "ST7022JM-Hypnogram. 100%[===================>]   4.20K  --.-KB/s    in 0s      \n",
            "\n",
            "2025-04-19 12:05:56 (844 MB/s) - ‘/content/drive/MyDrive/sleep-edf-telemetry/ST7022JM-Hypnogram.edf’ saved [4296/4296]\n",
            "\n",
            "--2025-04-19 12:05:56--  https://physionet.org/files/sleep-edfx/1.0.0/sleep-telemetry/ST7041J0-PSG.edf\n",
            "Reusing existing connection to physionet.org:443.\n",
            "HTTP request sent, awaiting response... 200 OK\n",
            "Length: 25552736 (24M) [application/octet-stream]\n",
            "Saving to: ‘/content/drive/MyDrive/sleep-edf-telemetry/ST7041J0-PSG.edf’\n",
            "\n",
            "ST7041J0-PSG.edf    100%[===================>]  24.37M   244KB/s    in 1m 59s  \n",
            "\n",
            "2025-04-19 12:07:56 (209 KB/s) - ‘/content/drive/MyDrive/sleep-edf-telemetry/ST7041J0-PSG.edf’ saved [25552736/25552736]\n",
            "\n",
            "--2025-04-19 12:07:56--  https://physionet.org/files/sleep-edfx/1.0.0/sleep-telemetry/ST7041JO-Hypnogram.edf\n",
            "Reusing existing connection to physionet.org:443.\n",
            "HTTP request sent, awaiting response... 200 OK\n",
            "Length: 4142 (4.0K) [application/octet-stream]\n",
            "Saving to: ‘/content/drive/MyDrive/sleep-edf-telemetry/ST7041JO-Hypnogram.edf’\n",
            "\n",
            "ST7041JO-Hypnogram. 100%[===================>]   4.04K  --.-KB/s    in 0s      \n",
            "\n",
            "2025-04-19 12:07:56 (632 MB/s) - ‘/content/drive/MyDrive/sleep-edf-telemetry/ST7041JO-Hypnogram.edf’ saved [4142/4142]\n",
            "\n",
            "--2025-04-19 12:07:56--  https://physionet.org/files/sleep-edfx/1.0.0/sleep-telemetry/ST7042J0-PSG.edf\n",
            "Reusing existing connection to physionet.org:443.\n",
            "HTTP request sent, awaiting response... 200 OK\n",
            "Length: 28463736 (27M) [application/octet-stream]\n",
            "Saving to: ‘/content/drive/MyDrive/sleep-edf-telemetry/ST7042J0-PSG.edf’\n",
            "\n",
            "ST7042J0-PSG.edf    100%[===================>]  27.14M   264KB/s    in 2m 4s   \n",
            "\n",
            "2025-04-19 12:10:00 (225 KB/s) - ‘/content/drive/MyDrive/sleep-edf-telemetry/ST7042J0-PSG.edf’ saved [28463736/28463736]\n",
            "\n",
            "--2025-04-19 12:10:00--  https://physionet.org/files/sleep-edfx/1.0.0/sleep-telemetry/ST7042JO-Hypnogram.edf\n",
            "Reusing existing connection to physionet.org:443.\n",
            "HTTP request sent, awaiting response... 200 OK\n",
            "Length: 3998 (3.9K) [application/octet-stream]\n",
            "Saving to: ‘/content/drive/MyDrive/sleep-edf-telemetry/ST7042JO-Hypnogram.edf’\n",
            "\n",
            "ST7042JO-Hypnogram. 100%[===================>]   3.90K  --.-KB/s    in 0s      \n",
            "\n",
            "2025-04-19 12:10:00 (562 MB/s) - ‘/content/drive/MyDrive/sleep-edf-telemetry/ST7042JO-Hypnogram.edf’ saved [3998/3998]\n",
            "\n",
            "--2025-04-19 12:10:00--  https://physionet.org/files/sleep-edfx/1.0.0/sleep-telemetry/ST7051J0-PSG.edf\n",
            "Reusing existing connection to physionet.org:443.\n",
            "HTTP request sent, awaiting response... 200 OK\n",
            "Length: 26405536 (25M) [application/octet-stream]\n",
            "Saving to: ‘/content/drive/MyDrive/sleep-edf-telemetry/ST7051J0-PSG.edf’\n",
            "\n",
            "ST7051J0-PSG.edf    100%[===================>]  25.18M   266KB/s    in 1m 46s  \n",
            "\n",
            "2025-04-19 12:11:47 (243 KB/s) - ‘/content/drive/MyDrive/sleep-edf-telemetry/ST7051J0-PSG.edf’ saved [26405536/26405536]\n",
            "\n",
            "--2025-04-19 12:11:47--  https://physionet.org/files/sleep-edfx/1.0.0/sleep-telemetry/ST7051JA-Hypnogram.edf\n",
            "Reusing existing connection to physionet.org:443.\n",
            "HTTP request sent, awaiting response... 200 OK\n",
            "Length: 5192 (5.1K) [application/octet-stream]\n",
            "Saving to: ‘/content/drive/MyDrive/sleep-edf-telemetry/ST7051JA-Hypnogram.edf’\n",
            "\n",
            "ST7051JA-Hypnogram. 100%[===================>]   5.07K  --.-KB/s    in 0s      \n",
            "\n",
            "2025-04-19 12:11:47 (949 MB/s) - ‘/content/drive/MyDrive/sleep-edf-telemetry/ST7051JA-Hypnogram.edf’ saved [5192/5192]\n",
            "\n",
            "--2025-04-19 12:11:47--  https://physionet.org/files/sleep-edfx/1.0.0/sleep-telemetry/ST7052J0-PSG.edf\n",
            "Reusing existing connection to physionet.org:443.\n",
            "HTTP request sent, awaiting response... 200 OK\n",
            "Length: 26922136 (26M) [application/octet-stream]\n",
            "Saving to: ‘/content/drive/MyDrive/sleep-edf-telemetry/ST7052J0-PSG.edf’\n",
            "\n",
            "ST7052J0-PSG.edf    100%[===================>]  25.67M   231KB/s    in 1m 52s  \n",
            "\n",
            "2025-04-19 12:13:40 (234 KB/s) - ‘/content/drive/MyDrive/sleep-edf-telemetry/ST7052J0-PSG.edf’ saved [26922136/26922136]\n",
            "\n",
            "--2025-04-19 12:13:40--  https://physionet.org/files/sleep-edfx/1.0.0/sleep-telemetry/ST7052JA-Hypnogram.edf\n",
            "Reusing existing connection to physionet.org:443.\n",
            "HTTP request sent, awaiting response... 200 OK\n",
            "Length: 3482 (3.4K) [application/octet-stream]\n",
            "Saving to: ‘/content/drive/MyDrive/sleep-edf-telemetry/ST7052JA-Hypnogram.edf’\n",
            "\n",
            "ST7052JA-Hypnogram. 100%[===================>]   3.40K  --.-KB/s    in 0s      \n",
            "\n",
            "2025-04-19 12:13:40 (447 MB/s) - ‘/content/drive/MyDrive/sleep-edf-telemetry/ST7052JA-Hypnogram.edf’ saved [3482/3482]\n",
            "\n",
            "--2025-04-19 12:13:40--  https://physionet.org/files/sleep-edfx/1.0.0/sleep-telemetry/ST7061J0-PSG.edf\n",
            "Reusing existing connection to physionet.org:443.\n",
            "HTTP request sent, awaiting response... 200 OK\n",
            "Length: 26708936 (25M) [application/octet-stream]\n",
            "Saving to: ‘/content/drive/MyDrive/sleep-edf-telemetry/ST7061J0-PSG.edf’\n",
            "\n",
            "ST7061J0-PSG.edf    100%[===================>]  25.47M   260KB/s    in 1m 40s  \n",
            "\n",
            "2025-04-19 12:15:20 (261 KB/s) - ‘/content/drive/MyDrive/sleep-edf-telemetry/ST7061J0-PSG.edf’ saved [26708936/26708936]\n",
            "\n",
            "--2025-04-19 12:15:20--  https://physionet.org/files/sleep-edfx/1.0.0/sleep-telemetry/ST7061JR-Hypnogram.edf\n",
            "Reusing existing connection to physionet.org:443.\n",
            "HTTP request sent, awaiting response... 200 OK\n",
            "Length: 2622 (2.6K) [application/octet-stream]\n",
            "Saving to: ‘/content/drive/MyDrive/sleep-edf-telemetry/ST7061JR-Hypnogram.edf’\n",
            "\n",
            "ST7061JR-Hypnogram. 100%[===================>]   2.56K  --.-KB/s    in 0s      \n",
            "\n",
            "2025-04-19 12:15:20 (396 MB/s) - ‘/content/drive/MyDrive/sleep-edf-telemetry/ST7061JR-Hypnogram.edf’ saved [2622/2622]\n",
            "\n",
            "--2025-04-19 12:15:20--  https://physionet.org/files/sleep-edfx/1.0.0/sleep-telemetry/ST7062J0-PSG.edf\n",
            "Reusing existing connection to physionet.org:443.\n",
            "HTTP request sent, awaiting response... 200 OK\n",
            "Length: 26881136 (26M) [application/octet-stream]\n",
            "Saving to: ‘/content/drive/MyDrive/sleep-edf-telemetry/ST7062J0-PSG.edf’\n",
            "\n",
            "ST7062J0-PSG.edf    100%[===================>]  25.64M   217KB/s    in 2m 5s   \n",
            "\n",
            "2025-04-19 12:17:25 (210 KB/s) - ‘/content/drive/MyDrive/sleep-edf-telemetry/ST7062J0-PSG.edf’ saved [26881136/26881136]\n",
            "\n",
            "--2025-04-19 12:17:25--  https://physionet.org/files/sleep-edfx/1.0.0/sleep-telemetry/ST7062JR-Hypnogram.edf\n",
            "Reusing existing connection to physionet.org:443.\n",
            "HTTP request sent, awaiting response... 200 OK\n",
            "Length: 2864 (2.8K) [application/octet-stream]\n",
            "Saving to: ‘/content/drive/MyDrive/sleep-edf-telemetry/ST7062JR-Hypnogram.edf’\n",
            "\n",
            "ST7062JR-Hypnogram. 100%[===================>]   2.80K  --.-KB/s    in 0s      \n",
            "\n",
            "2025-04-19 12:17:26 (425 MB/s) - ‘/content/drive/MyDrive/sleep-edf-telemetry/ST7062JR-Hypnogram.edf’ saved [2864/2864]\n",
            "\n",
            "--2025-04-19 12:17:26--  https://physionet.org/files/sleep-edfx/1.0.0/sleep-telemetry/ST7071J0-PSG.edf\n",
            "Reusing existing connection to physionet.org:443.\n",
            "HTTP request sent, awaiting response... 200 OK\n",
            "Length: 22518736 (21M) [application/octet-stream]\n",
            "Saving to: ‘/content/drive/MyDrive/sleep-edf-telemetry/ST7071J0-PSG.edf’\n",
            "\n",
            "ST7071J0-PSG.edf    100%[===================>]  21.47M   228KB/s    in 1m 48s  \n",
            "\n",
            "2025-04-19 12:19:14 (204 KB/s) - ‘/content/drive/MyDrive/sleep-edf-telemetry/ST7071J0-PSG.edf’ saved [22518736/22518736]\n",
            "\n",
            "--2025-04-19 12:19:14--  https://physionet.org/files/sleep-edfx/1.0.0/sleep-telemetry/ST7071JA-Hypnogram.edf\n",
            "Reusing existing connection to physionet.org:443.\n",
            "HTTP request sent, awaiting response... 200 OK\n",
            "Length: 4050 (4.0K) [application/octet-stream]\n",
            "Saving to: ‘/content/drive/MyDrive/sleep-edf-telemetry/ST7071JA-Hypnogram.edf’\n",
            "\n",
            "ST7071JA-Hypnogram. 100%[===================>]   3.96K  --.-KB/s    in 0s      \n",
            "\n",
            "2025-04-19 12:19:14 (647 MB/s) - ‘/content/drive/MyDrive/sleep-edf-telemetry/ST7071JA-Hypnogram.edf’ saved [4050/4050]\n",
            "\n",
            "--2025-04-19 12:19:14--  https://physionet.org/files/sleep-edfx/1.0.0/sleep-telemetry/ST7072J0-PSG.edf\n",
            "Reusing existing connection to physionet.org:443.\n",
            "HTTP request sent, awaiting response... 200 OK\n",
            "Length: 22518736 (21M) [application/octet-stream]\n",
            "Saving to: ‘/content/drive/MyDrive/sleep-edf-telemetry/ST7072J0-PSG.edf’\n",
            "\n",
            "ST7072J0-PSG.edf    100%[===================>]  21.47M   261KB/s    in 97s     \n",
            "\n",
            "2025-04-19 12:20:52 (226 KB/s) - ‘/content/drive/MyDrive/sleep-edf-telemetry/ST7072J0-PSG.edf’ saved [22518736/22518736]\n",
            "\n",
            "--2025-04-19 12:20:52--  https://physionet.org/files/sleep-edfx/1.0.0/sleep-telemetry/ST7072JA-Hypnogram.edf\n",
            "Reusing existing connection to physionet.org:443.\n",
            "HTTP request sent, awaiting response... 200 OK\n",
            "Length: 4538 (4.4K) [application/octet-stream]\n",
            "Saving to: ‘/content/drive/MyDrive/sleep-edf-telemetry/ST7072JA-Hypnogram.edf’\n",
            "\n",
            "ST7072JA-Hypnogram. 100%[===================>]   4.43K  --.-KB/s    in 0s      \n",
            "\n",
            "2025-04-19 12:20:52 (751 MB/s) - ‘/content/drive/MyDrive/sleep-edf-telemetry/ST7072JA-Hypnogram.edf’ saved [4538/4538]\n",
            "\n",
            "--2025-04-19 12:20:52--  https://physionet.org/files/sleep-edfx/1.0.0/sleep-telemetry/ST7081J0-PSG.edf\n",
            "Reusing existing connection to physionet.org:443.\n",
            "HTTP request sent, awaiting response... 200 OK\n",
            "Length: 23781536 (23M) [application/octet-stream]\n",
            "Saving to: ‘/content/drive/MyDrive/sleep-edf-telemetry/ST7081J0-PSG.edf’\n",
            "\n",
            "ST7081J0-PSG.edf    100%[===================>]  22.68M   251KB/s    in 1m 44s  \n",
            "\n",
            "2025-04-19 12:22:37 (223 KB/s) - ‘/content/drive/MyDrive/sleep-edf-telemetry/ST7081J0-PSG.edf’ saved [23781536/23781536]\n",
            "\n",
            "--2025-04-19 12:22:37--  https://physionet.org/files/sleep-edfx/1.0.0/sleep-telemetry/ST7081JW-Hypnogram.edf\n",
            "Reusing existing connection to physionet.org:443.\n",
            "HTTP request sent, awaiting response... 200 OK\n",
            "Length: 4590 (4.5K) [application/octet-stream]\n",
            "Saving to: ‘/content/drive/MyDrive/sleep-edf-telemetry/ST7081JW-Hypnogram.edf’\n",
            "\n",
            "ST7081JW-Hypnogram. 100%[===================>]   4.48K  --.-KB/s    in 0s      \n",
            "\n",
            "2025-04-19 12:22:37 (577 MB/s) - ‘/content/drive/MyDrive/sleep-edf-telemetry/ST7081JW-Hypnogram.edf’ saved [4590/4590]\n",
            "\n",
            "--2025-04-19 12:22:37--  https://physionet.org/files/sleep-edfx/1.0.0/sleep-telemetry/ST7082J0-PSG.edf\n",
            "Reusing existing connection to physionet.org:443.\n",
            "HTTP request sent, awaiting response... 200 OK\n",
            "Length: 23396136 (22M) [application/octet-stream]\n",
            "Saving to: ‘/content/drive/MyDrive/sleep-edf-telemetry/ST7082J0-PSG.edf’\n",
            "\n",
            "ST7082J0-PSG.edf    100%[===================>]  22.31M   243KB/s    in 1m 48s  \n",
            "\n",
            "2025-04-19 12:24:25 (212 KB/s) - ‘/content/drive/MyDrive/sleep-edf-telemetry/ST7082J0-PSG.edf’ saved [23396136/23396136]\n",
            "\n",
            "--2025-04-19 12:24:25--  https://physionet.org/files/sleep-edfx/1.0.0/sleep-telemetry/ST7082JW-Hypnogram.edf\n",
            "Reusing existing connection to physionet.org:443.\n",
            "HTTP request sent, awaiting response... 200 OK\n",
            "Length: 3816 (3.7K) [application/octet-stream]\n",
            "Saving to: ‘/content/drive/MyDrive/sleep-edf-telemetry/ST7082JW-Hypnogram.edf’\n",
            "\n",
            "ST7082JW-Hypnogram. 100%[===================>]   3.73K  --.-KB/s    in 0s      \n",
            "\n",
            "2025-04-19 12:24:25 (568 MB/s) - ‘/content/drive/MyDrive/sleep-edf-telemetry/ST7082JW-Hypnogram.edf’ saved [3816/3816]\n",
            "\n",
            "--2025-04-19 12:24:25--  https://physionet.org/files/sleep-edfx/1.0.0/sleep-telemetry/ST7091J0-PSG.edf\n",
            "Reusing existing connection to physionet.org:443.\n",
            "HTTP request sent, awaiting response... 200 OK\n",
            "Length: 24486736 (23M) [application/octet-stream]\n",
            "Saving to: ‘/content/drive/MyDrive/sleep-edf-telemetry/ST7091J0-PSG.edf’\n",
            "\n",
            "ST7091J0-PSG.edf    100%[===================>]  23.35M   234KB/s    in 1m 46s  \n",
            "\n",
            "2025-04-19 12:26:12 (225 KB/s) - ‘/content/drive/MyDrive/sleep-edf-telemetry/ST7091J0-PSG.edf’ saved [24486736/24486736]\n",
            "\n",
            "--2025-04-19 12:26:12--  https://physionet.org/files/sleep-edfx/1.0.0/sleep-telemetry/ST7091JE-Hypnogram.edf\n",
            "Reusing existing connection to physionet.org:443.\n",
            "HTTP request sent, awaiting response... 200 OK\n",
            "Length: 3918 (3.8K) [application/octet-stream]\n",
            "Saving to: ‘/content/drive/MyDrive/sleep-edf-telemetry/ST7091JE-Hypnogram.edf’\n",
            "\n",
            "ST7091JE-Hypnogram. 100%[===================>]   3.83K  --.-KB/s    in 0s      \n",
            "\n",
            "2025-04-19 12:26:12 (552 MB/s) - ‘/content/drive/MyDrive/sleep-edf-telemetry/ST7091JE-Hypnogram.edf’ saved [3918/3918]\n",
            "\n",
            "--2025-04-19 12:26:12--  https://physionet.org/files/sleep-edfx/1.0.0/sleep-telemetry/ST7092J0-PSG.edf\n",
            "Reusing existing connection to physionet.org:443.\n",
            "HTTP request sent, awaiting response... 200 OK\n",
            "Length: 23674936 (23M) [application/octet-stream]\n",
            "Saving to: ‘/content/drive/MyDrive/sleep-edf-telemetry/ST7092J0-PSG.edf’\n",
            "\n",
            "ST7092J0-PSG.edf    100%[===================>]  22.58M   199KB/s    in 1m 46s  \n",
            "\n",
            "2025-04-19 12:27:58 (218 KB/s) - ‘/content/drive/MyDrive/sleep-edf-telemetry/ST7092J0-PSG.edf’ saved [23674936/23674936]\n",
            "\n",
            "--2025-04-19 12:27:58--  https://physionet.org/files/sleep-edfx/1.0.0/sleep-telemetry/ST7092JE-Hypnogram.edf\n",
            "Reusing existing connection to physionet.org:443.\n",
            "HTTP request sent, awaiting response... 200 OK\n",
            "Length: 5332 (5.2K) [application/octet-stream]\n",
            "Saving to: ‘/content/drive/MyDrive/sleep-edf-telemetry/ST7092JE-Hypnogram.edf’\n",
            "\n",
            "ST7092JE-Hypnogram. 100%[===================>]   5.21K  --.-KB/s    in 0s      \n",
            "\n",
            "2025-04-19 12:27:59 (814 MB/s) - ‘/content/drive/MyDrive/sleep-edf-telemetry/ST7092JE-Hypnogram.edf’ saved [5332/5332]\n",
            "\n",
            "--2025-04-19 12:27:59--  https://physionet.org/files/sleep-edfx/1.0.0/sleep-telemetry/ST7101J0-PSG.edf\n",
            "Reusing existing connection to physionet.org:443.\n",
            "HTTP request sent, awaiting response... 200 OK\n",
            "Length: 27028736 (26M) [application/octet-stream]\n",
            "Saving to: ‘/content/drive/MyDrive/sleep-edf-telemetry/ST7101J0-PSG.edf’\n",
            "\n",
            "ST7101J0-PSG.edf    100%[===================>]  25.78M   138KB/s    in 2m 15s  \n",
            "\n",
            "2025-04-19 12:30:13 (196 KB/s) - ‘/content/drive/MyDrive/sleep-edf-telemetry/ST7101J0-PSG.edf’ saved [27028736/27028736]\n",
            "\n",
            "--2025-04-19 12:30:13--  https://physionet.org/files/sleep-edfx/1.0.0/sleep-telemetry/ST7101JE-Hypnogram.edf\n",
            "Reusing existing connection to physionet.org:443.\n",
            "HTTP request sent, awaiting response... 200 OK\n",
            "Length: 4590 (4.5K) [application/octet-stream]\n",
            "Saving to: ‘/content/drive/MyDrive/sleep-edf-telemetry/ST7101JE-Hypnogram.edf’\n",
            "\n",
            "ST7101JE-Hypnogram. 100%[===================>]   4.48K  --.-KB/s    in 0s      \n",
            "\n",
            "2025-04-19 12:30:14 (625 MB/s) - ‘/content/drive/MyDrive/sleep-edf-telemetry/ST7101JE-Hypnogram.edf’ saved [4590/4590]\n",
            "\n",
            "--2025-04-19 12:30:14--  https://physionet.org/files/sleep-edfx/1.0.0/sleep-telemetry/ST7102J0-PSG.edf\n",
            "Reusing existing connection to physionet.org:443.\n",
            "HTTP request sent, awaiting response... 200 OK\n",
            "Length: 24453936 (23M) [application/octet-stream]\n",
            "Saving to: ‘/content/drive/MyDrive/sleep-edf-telemetry/ST7102J0-PSG.edf’\n",
            "\n",
            "ST7102J0-PSG.edf    100%[===================>]  23.32M   220KB/s    in 2m 10s  \n",
            "\n",
            "2025-04-19 12:32:24 (183 KB/s) - ‘/content/drive/MyDrive/sleep-edf-telemetry/ST7102J0-PSG.edf’ saved [24453936/24453936]\n",
            "\n",
            "--2025-04-19 12:32:24--  https://physionet.org/files/sleep-edfx/1.0.0/sleep-telemetry/ST7102JE-Hypnogram.edf\n",
            "Reusing existing connection to physionet.org:443.\n",
            "HTTP request sent, awaiting response... 200 OK\n",
            "Length: 3102 (3.0K) [application/octet-stream]\n",
            "Saving to: ‘/content/drive/MyDrive/sleep-edf-telemetry/ST7102JE-Hypnogram.edf’\n",
            "\n",
            "ST7102JE-Hypnogram. 100%[===================>]   3.03K  --.-KB/s    in 0s      \n",
            "\n",
            "2025-04-19 12:32:24 (459 MB/s) - ‘/content/drive/MyDrive/sleep-edf-telemetry/ST7102JE-Hypnogram.edf’ saved [3102/3102]\n",
            "\n",
            "--2025-04-19 12:32:24--  https://physionet.org/files/sleep-edfx/1.0.0/sleep-telemetry/ST7111J0-PSG.edf\n",
            "Reusing existing connection to physionet.org:443.\n",
            "HTTP request sent, awaiting response... 200 OK\n",
            "Length: 25749536 (25M) [application/octet-stream]\n",
            "Saving to: ‘/content/drive/MyDrive/sleep-edf-telemetry/ST7111J0-PSG.edf’\n",
            "\n",
            "ST7111J0-PSG.edf    100%[===================>]  24.56M   224KB/s    in 1m 58s  \n",
            "\n",
            "2025-04-19 12:34:23 (213 KB/s) - ‘/content/drive/MyDrive/sleep-edf-telemetry/ST7111J0-PSG.edf’ saved [25749536/25749536]\n",
            "\n",
            "--2025-04-19 12:34:23--  https://physionet.org/files/sleep-edfx/1.0.0/sleep-telemetry/ST7111JE-Hypnogram.edf\n",
            "Reusing existing connection to physionet.org:443.\n",
            "HTTP request sent, awaiting response... 200 OK\n",
            "Length: 2626 (2.6K) [application/octet-stream]\n",
            "Saving to: ‘/content/drive/MyDrive/sleep-edf-telemetry/ST7111JE-Hypnogram.edf’\n",
            "\n",
            "ST7111JE-Hypnogram. 100%[===================>]   2.56K  --.-KB/s    in 0s      \n",
            "\n",
            "2025-04-19 12:34:23 (431 MB/s) - ‘/content/drive/MyDrive/sleep-edf-telemetry/ST7111JE-Hypnogram.edf’ saved [2626/2626]\n",
            "\n",
            "--2025-04-19 12:34:23--  https://physionet.org/files/sleep-edfx/1.0.0/sleep-telemetry/ST7112J0-PSG.edf\n",
            "Reusing existing connection to physionet.org:443.\n",
            "HTTP request sent, awaiting response... 200 OK\n",
            "Length: 25150936 (24M) [application/octet-stream]\n",
            "Saving to: ‘/content/drive/MyDrive/sleep-edf-telemetry/ST7112J0-PSG.edf’\n",
            "\n",
            "ST7112J0-PSG.edf    100%[===================>]  23.99M   194KB/s    in 1m 56s  \n",
            "\n",
            "2025-04-19 12:36:19 (212 KB/s) - ‘/content/drive/MyDrive/sleep-edf-telemetry/ST7112J0-PSG.edf’ saved [25150936/25150936]\n",
            "\n",
            "--2025-04-19 12:36:19--  https://physionet.org/files/sleep-edfx/1.0.0/sleep-telemetry/ST7112JE-Hypnogram.edf\n",
            "Reusing existing connection to physionet.org:443.\n",
            "HTTP request sent, awaiting response... 200 OK\n",
            "Length: 3390 (3.3K) [application/octet-stream]\n",
            "Saving to: ‘/content/drive/MyDrive/sleep-edf-telemetry/ST7112JE-Hypnogram.edf’\n",
            "\n",
            "ST7112JE-Hypnogram. 100%[===================>]   3.31K  --.-KB/s    in 0s      \n",
            "\n",
            "2025-04-19 12:36:20 (490 MB/s) - ‘/content/drive/MyDrive/sleep-edf-telemetry/ST7112JE-Hypnogram.edf’ saved [3390/3390]\n",
            "\n",
            "--2025-04-19 12:36:20--  https://physionet.org/files/sleep-edfx/1.0.0/sleep-telemetry/ST7121J0-PSG.edf\n",
            "Reusing existing connection to physionet.org:443.\n",
            "HTTP request sent, awaiting response... 200 OK\n",
            "Length: 25585536 (24M) [application/octet-stream]\n",
            "Saving to: ‘/content/drive/MyDrive/sleep-edf-telemetry/ST7121J0-PSG.edf’\n",
            "\n",
            "ST7121J0-PSG.edf    100%[===================>]  24.40M   198KB/s    in 1m 57s  \n",
            "\n",
            "2025-04-19 12:38:17 (214 KB/s) - ‘/content/drive/MyDrive/sleep-edf-telemetry/ST7121J0-PSG.edf’ saved [25585536/25585536]\n",
            "\n",
            "--2025-04-19 12:38:17--  https://physionet.org/files/sleep-edfx/1.0.0/sleep-telemetry/ST7121JE-Hypnogram.edf\n",
            "Reusing existing connection to physionet.org:443.\n",
            "HTTP request sent, awaiting response... 200 OK\n",
            "Length: 4852 (4.7K) [application/octet-stream]\n",
            "Saving to: ‘/content/drive/MyDrive/sleep-edf-telemetry/ST7121JE-Hypnogram.edf’\n",
            "\n",
            "ST7121JE-Hypnogram. 100%[===================>]   4.74K  --.-KB/s    in 0s      \n",
            "\n",
            "2025-04-19 12:38:17 (665 MB/s) - ‘/content/drive/MyDrive/sleep-edf-telemetry/ST7121JE-Hypnogram.edf’ saved [4852/4852]\n",
            "\n",
            "--2025-04-19 12:38:17--  https://physionet.org/files/sleep-edfx/1.0.0/sleep-telemetry/ST7122J0-PSG.edf\n",
            "Reusing existing connection to physionet.org:443.\n",
            "HTTP request sent, awaiting response... 200 OK\n",
            "Length: 24888536 (24M) [application/octet-stream]\n",
            "Saving to: ‘/content/drive/MyDrive/sleep-edf-telemetry/ST7122J0-PSG.edf’\n",
            "\n",
            "ST7122J0-PSG.edf    100%[===================>]  23.74M   235KB/s    in 1m 42s  \n",
            "\n",
            "2025-04-19 12:39:59 (238 KB/s) - ‘/content/drive/MyDrive/sleep-edf-telemetry/ST7122J0-PSG.edf’ saved [24888536/24888536]\n",
            "\n",
            "--2025-04-19 12:39:59--  https://physionet.org/files/sleep-edfx/1.0.0/sleep-telemetry/ST7122JE-Hypnogram.edf\n",
            "Reusing existing connection to physionet.org:443.\n",
            "HTTP request sent, awaiting response... 200 OK\n",
            "Length: 3028 (3.0K) [application/octet-stream]\n",
            "Saving to: ‘/content/drive/MyDrive/sleep-edf-telemetry/ST7122JE-Hypnogram.edf’\n",
            "\n",
            "ST7122JE-Hypnogram. 100%[===================>]   2.96K  --.-KB/s    in 0s      \n",
            "\n",
            "2025-04-19 12:40:00 (467 MB/s) - ‘/content/drive/MyDrive/sleep-edf-telemetry/ST7122JE-Hypnogram.edf’ saved [3028/3028]\n",
            "\n",
            "--2025-04-19 12:40:00--  https://physionet.org/files/sleep-edfx/1.0.0/sleep-telemetry/ST7131J0-PSG.edf\n",
            "Reusing existing connection to physionet.org:443.\n",
            "HTTP request sent, awaiting response... 200 OK\n",
            "Length: 22682736 (22M) [application/octet-stream]\n",
            "Saving to: ‘/content/drive/MyDrive/sleep-edf-telemetry/ST7131J0-PSG.edf’\n",
            "\n",
            "ST7131J0-PSG.edf    100%[===================>]  21.63M   247KB/s    in 99s     \n",
            "\n",
            "2025-04-19 12:41:39 (223 KB/s) - ‘/content/drive/MyDrive/sleep-edf-telemetry/ST7131J0-PSG.edf’ saved [22682736/22682736]\n",
            "\n",
            "--2025-04-19 12:41:39--  https://physionet.org/files/sleep-edfx/1.0.0/sleep-telemetry/ST7131JR-Hypnogram.edf\n",
            "Reusing existing connection to physionet.org:443.\n",
            "HTTP request sent, awaiting response... 200 OK\n",
            "Length: 2792 (2.7K) [application/octet-stream]\n",
            "Saving to: ‘/content/drive/MyDrive/sleep-edf-telemetry/ST7131JR-Hypnogram.edf’\n",
            "\n",
            "ST7131JR-Hypnogram. 100%[===================>]   2.73K  --.-KB/s    in 0s      \n",
            "\n",
            "2025-04-19 12:41:39 (404 MB/s) - ‘/content/drive/MyDrive/sleep-edf-telemetry/ST7131JR-Hypnogram.edf’ saved [2792/2792]\n",
            "\n",
            "--2025-04-19 12:41:39--  https://physionet.org/files/sleep-edfx/1.0.0/sleep-telemetry/ST7132J0-PSG.edf\n",
            "Reusing existing connection to physionet.org:443.\n",
            "HTTP request sent, awaiting response... 200 OK\n",
            "Length: 22125136 (21M) [application/octet-stream]\n",
            "Saving to: ‘/content/drive/MyDrive/sleep-edf-telemetry/ST7132J0-PSG.edf’\n",
            "\n",
            "ST7132J0-PSG.edf    100%[===================>]  21.10M   247KB/s    in 90s     \n",
            "\n",
            "2025-04-19 12:43:10 (239 KB/s) - ‘/content/drive/MyDrive/sleep-edf-telemetry/ST7132J0-PSG.edf’ saved [22125136/22125136]\n",
            "\n",
            "--2025-04-19 12:43:10--  https://physionet.org/files/sleep-edfx/1.0.0/sleep-telemetry/ST7132JR-Hypnogram.edf\n",
            "Reusing existing connection to physionet.org:443.\n",
            "HTTP request sent, awaiting response... 200 OK\n",
            "Length: 3464 (3.4K) [application/octet-stream]\n",
            "Saving to: ‘/content/drive/MyDrive/sleep-edf-telemetry/ST7132JR-Hypnogram.edf’\n",
            "\n",
            "ST7132JR-Hypnogram. 100%[===================>]   3.38K  --.-KB/s    in 0s      \n",
            "\n",
            "2025-04-19 12:43:10 (435 MB/s) - ‘/content/drive/MyDrive/sleep-edf-telemetry/ST7132JR-Hypnogram.edf’ saved [3464/3464]\n",
            "\n",
            "--2025-04-19 12:43:10--  https://physionet.org/files/sleep-edfx/1.0.0/sleep-telemetry/ST7141J0-PSG.edf\n",
            "Reusing existing connection to physionet.org:443.\n",
            "HTTP request sent, awaiting response... 200 OK\n",
            "Length: 22641736 (22M) [application/octet-stream]\n",
            "Saving to: ‘/content/drive/MyDrive/sleep-edf-telemetry/ST7141J0-PSG.edf’\n",
            "\n",
            "ST7141J0-PSG.edf    100%[===================>]  21.59M   241KB/s    in 93s     \n",
            "\n",
            "2025-04-19 12:44:44 (237 KB/s) - ‘/content/drive/MyDrive/sleep-edf-telemetry/ST7141J0-PSG.edf’ saved [22641736/22641736]\n",
            "\n",
            "--2025-04-19 12:44:44--  https://physionet.org/files/sleep-edfx/1.0.0/sleep-telemetry/ST7141JE-Hypnogram.edf\n",
            "Reusing existing connection to physionet.org:443.\n",
            "HTTP request sent, awaiting response... 200 OK\n",
            "Length: 3738 (3.7K) [application/octet-stream]\n",
            "Saving to: ‘/content/drive/MyDrive/sleep-edf-telemetry/ST7141JE-Hypnogram.edf’\n",
            "\n",
            "ST7141JE-Hypnogram. 100%[===================>]   3.65K  --.-KB/s    in 0s      \n",
            "\n",
            "2025-04-19 12:44:44 (160 MB/s) - ‘/content/drive/MyDrive/sleep-edf-telemetry/ST7141JE-Hypnogram.edf’ saved [3738/3738]\n",
            "\n",
            "--2025-04-19 12:44:44--  https://physionet.org/files/sleep-edfx/1.0.0/sleep-telemetry/ST7142J0-PSG.edf\n",
            "Reusing existing connection to physionet.org:443.\n",
            "HTTP request sent, awaiting response... 200 OK\n",
            "Length: 22559736 (22M) [application/octet-stream]\n",
            "Saving to: ‘/content/drive/MyDrive/sleep-edf-telemetry/ST7142J0-PSG.edf’\n",
            "\n",
            "ST7142J0-PSG.edf    100%[===================>]  21.51M   218KB/s    in 96s     \n",
            "\n",
            "2025-04-19 12:46:20 (229 KB/s) - ‘/content/drive/MyDrive/sleep-edf-telemetry/ST7142J0-PSG.edf’ saved [22559736/22559736]\n",
            "\n",
            "--2025-04-19 12:46:20--  https://physionet.org/files/sleep-edfx/1.0.0/sleep-telemetry/ST7142JE-Hypnogram.edf\n",
            "Reusing existing connection to physionet.org:443.\n",
            "HTTP request sent, awaiting response... 200 OK\n",
            "Length: 2836 (2.8K) [application/octet-stream]\n",
            "Saving to: ‘/content/drive/MyDrive/sleep-edf-telemetry/ST7142JE-Hypnogram.edf’\n",
            "\n",
            "ST7142JE-Hypnogram. 100%[===================>]   2.77K  --.-KB/s    in 0s      \n",
            "\n",
            "2025-04-19 12:46:20 (500 MB/s) - ‘/content/drive/MyDrive/sleep-edf-telemetry/ST7142JE-Hypnogram.edf’ saved [2836/2836]\n",
            "\n",
            "--2025-04-19 12:46:20--  https://physionet.org/files/sleep-edfx/1.0.0/sleep-telemetry/ST7151J0-PSG.edf\n",
            "Reusing existing connection to physionet.org:443.\n",
            "HTTP request sent, awaiting response... 200 OK\n",
            "Length: 31579736 (30M) [application/octet-stream]\n",
            "Saving to: ‘/content/drive/MyDrive/sleep-edf-telemetry/ST7151J0-PSG.edf’\n",
            "\n",
            "ST7151J0-PSG.edf    100%[===================>]  30.12M   231KB/s    in 2m 8s   \n",
            "\n",
            "2025-04-19 12:48:29 (241 KB/s) - ‘/content/drive/MyDrive/sleep-edf-telemetry/ST7151J0-PSG.edf’ saved [31579736/31579736]\n",
            "\n",
            "--2025-04-19 12:48:29--  https://physionet.org/files/sleep-edfx/1.0.0/sleep-telemetry/ST7151JA-Hypnogram.edf\n",
            "Reusing existing connection to physionet.org:443.\n",
            "HTTP request sent, awaiting response... 200 OK\n",
            "Length: 5080 (5.0K) [application/octet-stream]\n",
            "Saving to: ‘/content/drive/MyDrive/sleep-edf-telemetry/ST7151JA-Hypnogram.edf’\n",
            "\n",
            "ST7151JA-Hypnogram. 100%[===================>]   4.96K  --.-KB/s    in 0s      \n",
            "\n",
            "2025-04-19 12:48:29 (712 MB/s) - ‘/content/drive/MyDrive/sleep-edf-telemetry/ST7151JA-Hypnogram.edf’ saved [5080/5080]\n",
            "\n",
            "--2025-04-19 12:48:29--  https://physionet.org/files/sleep-edfx/1.0.0/sleep-telemetry/ST7152J0-PSG.edf\n",
            "Reusing existing connection to physionet.org:443.\n",
            "HTTP request sent, awaiting response... 200 OK\n",
            "Length: 26446536 (25M) [application/octet-stream]\n",
            "Saving to: ‘/content/drive/MyDrive/sleep-edf-telemetry/ST7152J0-PSG.edf’\n",
            "\n",
            "ST7152J0-PSG.edf    100%[===================>]  25.22M   154KB/s    in 1m 59s  \n",
            "\n",
            "2025-04-19 12:50:28 (217 KB/s) - ‘/content/drive/MyDrive/sleep-edf-telemetry/ST7152J0-PSG.edf’ saved [26446536/26446536]\n",
            "\n",
            "--2025-04-19 12:50:28--  https://physionet.org/files/sleep-edfx/1.0.0/sleep-telemetry/ST7152JA-Hypnogram.edf\n",
            "Reusing existing connection to physionet.org:443.\n",
            "HTTP request sent, awaiting response... 200 OK\n",
            "Length: 4748 (4.6K) [application/octet-stream]\n",
            "Saving to: ‘/content/drive/MyDrive/sleep-edf-telemetry/ST7152JA-Hypnogram.edf’\n",
            "\n",
            "ST7152JA-Hypnogram. 100%[===================>]   4.64K  --.-KB/s    in 0s      \n",
            "\n",
            "2025-04-19 12:50:28 (788 MB/s) - ‘/content/drive/MyDrive/sleep-edf-telemetry/ST7152JA-Hypnogram.edf’ saved [4748/4748]\n",
            "\n",
            "--2025-04-19 12:50:28--  https://physionet.org/files/sleep-edfx/1.0.0/sleep-telemetry/ST7161J0-PSG.edf\n",
            "Reusing existing connection to physionet.org:443.\n",
            "HTTP request sent, awaiting response... 200 OK\n",
            "Length: 27307536 (26M) [application/octet-stream]\n",
            "Saving to: ‘/content/drive/MyDrive/sleep-edf-telemetry/ST7161J0-PSG.edf’\n",
            "\n",
            "ST7161J0-PSG.edf    100%[===================>]  26.04M   185KB/s    in 2m 10s  \n",
            "\n",
            "2025-04-19 12:52:39 (205 KB/s) - ‘/content/drive/MyDrive/sleep-edf-telemetry/ST7161J0-PSG.edf’ saved [27307536/27307536]\n",
            "\n",
            "--2025-04-19 12:52:39--  https://physionet.org/files/sleep-edfx/1.0.0/sleep-telemetry/ST7161JM-Hypnogram.edf\n",
            "Reusing existing connection to physionet.org:443.\n",
            "HTTP request sent, awaiting response... 200 OK\n",
            "Length: 4302 (4.2K) [application/octet-stream]\n",
            "Saving to: ‘/content/drive/MyDrive/sleep-edf-telemetry/ST7161JM-Hypnogram.edf’\n",
            "\n",
            "ST7161JM-Hypnogram. 100%[===================>]   4.20K  --.-KB/s    in 0s      \n",
            "\n",
            "2025-04-19 12:52:39 (651 MB/s) - ‘/content/drive/MyDrive/sleep-edf-telemetry/ST7161JM-Hypnogram.edf’ saved [4302/4302]\n",
            "\n",
            "--2025-04-19 12:52:39--  https://physionet.org/files/sleep-edfx/1.0.0/sleep-telemetry/ST7162J0-PSG.edf\n",
            "Reusing existing connection to physionet.org:443.\n",
            "HTTP request sent, awaiting response... 200 OK\n",
            "Length: 24634336 (23M) [application/octet-stream]\n",
            "Saving to: ‘/content/drive/MyDrive/sleep-edf-telemetry/ST7162J0-PSG.edf’\n",
            "\n",
            "ST7162J0-PSG.edf    100%[===================>]  23.49M   161KB/s    in 1m 44s  \n",
            "\n",
            "2025-04-19 12:54:24 (231 KB/s) - ‘/content/drive/MyDrive/sleep-edf-telemetry/ST7162J0-PSG.edf’ saved [24634336/24634336]\n",
            "\n",
            "--2025-04-19 12:54:24--  https://physionet.org/files/sleep-edfx/1.0.0/sleep-telemetry/ST7162JM-Hypnogram.edf\n",
            "Reusing existing connection to physionet.org:443.\n",
            "HTTP request sent, awaiting response... 200 OK\n",
            "Length: 5084 (5.0K) [application/octet-stream]\n",
            "Saving to: ‘/content/drive/MyDrive/sleep-edf-telemetry/ST7162JM-Hypnogram.edf’\n",
            "\n",
            "ST7162JM-Hypnogram. 100%[===================>]   4.96K  --.-KB/s    in 0s      \n",
            "\n",
            "2025-04-19 12:54:24 (751 MB/s) - ‘/content/drive/MyDrive/sleep-edf-telemetry/ST7162JM-Hypnogram.edf’ saved [5084/5084]\n",
            "\n",
            "--2025-04-19 12:54:24--  https://physionet.org/files/sleep-edfx/1.0.0/sleep-telemetry/ST7171J0-PSG.edf\n",
            "Reusing existing connection to physionet.org:443.\n",
            "HTTP request sent, awaiting response... 200 OK\n",
            "Length: 23724136 (23M) [application/octet-stream]\n",
            "Saving to: ‘/content/drive/MyDrive/sleep-edf-telemetry/ST7171J0-PSG.edf’\n",
            "\n",
            "ST7171J0-PSG.edf    100%[===================>]  22.62M   273KB/s    in 96s     \n",
            "\n",
            "2025-04-19 12:56:00 (242 KB/s) - ‘/content/drive/MyDrive/sleep-edf-telemetry/ST7171J0-PSG.edf’ saved [23724136/23724136]\n",
            "\n",
            "--2025-04-19 12:56:00--  https://physionet.org/files/sleep-edfx/1.0.0/sleep-telemetry/ST7171JA-Hypnogram.edf\n",
            "Reusing existing connection to physionet.org:443.\n",
            "HTTP request sent, awaiting response... 200 OK\n",
            "Length: 5432 (5.3K) [application/octet-stream]\n",
            "Saving to: ‘/content/drive/MyDrive/sleep-edf-telemetry/ST7171JA-Hypnogram.edf’\n",
            "\n",
            "ST7171JA-Hypnogram. 100%[===================>]   5.30K  --.-KB/s    in 0s      \n",
            "\n",
            "2025-04-19 12:56:00 (801 MB/s) - ‘/content/drive/MyDrive/sleep-edf-telemetry/ST7171JA-Hypnogram.edf’ saved [5432/5432]\n",
            "\n",
            "--2025-04-19 12:56:00--  https://physionet.org/files/sleep-edfx/1.0.0/sleep-telemetry/ST7172J0-PSG.edf\n",
            "Reusing existing connection to physionet.org:443.\n",
            "HTTP request sent, awaiting response... 200 OK\n",
            "Length: 24765536 (24M) [application/octet-stream]\n",
            "Saving to: ‘/content/drive/MyDrive/sleep-edf-telemetry/ST7172J0-PSG.edf’\n",
            "\n",
            "ST7172J0-PSG.edf    100%[===================>]  23.62M   251KB/s    in 96s     \n",
            "\n",
            "2025-04-19 12:57:37 (251 KB/s) - ‘/content/drive/MyDrive/sleep-edf-telemetry/ST7172J0-PSG.edf’ saved [24765536/24765536]\n",
            "\n",
            "--2025-04-19 12:57:37--  https://physionet.org/files/sleep-edfx/1.0.0/sleep-telemetry/ST7172JA-Hypnogram.edf\n",
            "Reusing existing connection to physionet.org:443.\n",
            "HTTP request sent, awaiting response... 200 OK\n",
            "Length: 5586 (5.5K) [application/octet-stream]\n",
            "Saving to: ‘/content/drive/MyDrive/sleep-edf-telemetry/ST7172JA-Hypnogram.edf’\n",
            "\n",
            "ST7172JA-Hypnogram. 100%[===================>]   5.46K  --.-KB/s    in 0s      \n",
            "\n",
            "2025-04-19 12:57:37 (722 MB/s) - ‘/content/drive/MyDrive/sleep-edf-telemetry/ST7172JA-Hypnogram.edf’ saved [5586/5586]\n",
            "\n",
            "--2025-04-19 12:57:37--  https://physionet.org/files/sleep-edfx/1.0.0/sleep-telemetry/ST7181J0-PSG.edf\n",
            "Reusing existing connection to physionet.org:443.\n",
            "HTTP request sent, awaiting response... 200 OK\n",
            "Length: 25323136 (24M) [application/octet-stream]\n",
            "Saving to: ‘/content/drive/MyDrive/sleep-edf-telemetry/ST7181J0-PSG.edf’\n",
            "\n",
            "ST7181J0-PSG.edf    100%[===================>]  24.15M   228KB/s    in 1m 44s  \n",
            "\n",
            "2025-04-19 12:59:22 (237 KB/s) - ‘/content/drive/MyDrive/sleep-edf-telemetry/ST7181J0-PSG.edf’ saved [25323136/25323136]\n",
            "\n",
            "--2025-04-19 12:59:22--  https://physionet.org/files/sleep-edfx/1.0.0/sleep-telemetry/ST7181JR-Hypnogram.edf\n",
            "Reusing existing connection to physionet.org:443.\n",
            "HTTP request sent, awaiting response... 200 OK\n",
            "Length: 3084 (3.0K) [application/octet-stream]\n",
            "Saving to: ‘/content/drive/MyDrive/sleep-edf-telemetry/ST7181JR-Hypnogram.edf’\n",
            "\n",
            "ST7181JR-Hypnogram. 100%[===================>]   3.01K  --.-KB/s    in 0s      \n",
            "\n",
            "2025-04-19 12:59:22 (427 MB/s) - ‘/content/drive/MyDrive/sleep-edf-telemetry/ST7181JR-Hypnogram.edf’ saved [3084/3084]\n",
            "\n",
            "--2025-04-19 12:59:22--  https://physionet.org/files/sleep-edfx/1.0.0/sleep-telemetry/ST7182J0-PSG.edf\n",
            "Reusing existing connection to physionet.org:443.\n",
            "HTTP request sent, awaiting response... 200 OK\n",
            "Length: 27832336 (27M) [application/octet-stream]\n",
            "Saving to: ‘/content/drive/MyDrive/sleep-edf-telemetry/ST7182J0-PSG.edf’\n",
            "\n",
            "ST7182J0-PSG.edf    100%[===================>]  26.54M   296KB/s    in 1m 56s  \n",
            "\n",
            "2025-04-19 13:01:18 (234 KB/s) - ‘/content/drive/MyDrive/sleep-edf-telemetry/ST7182J0-PSG.edf’ saved [27832336/27832336]\n",
            "\n",
            "--2025-04-19 13:01:18--  https://physionet.org/files/sleep-edfx/1.0.0/sleep-telemetry/ST7182JR-Hypnogram.edf\n",
            "Reusing existing connection to physionet.org:443.\n",
            "HTTP request sent, awaiting response... 200 OK\n",
            "Length: 3258 (3.2K) [application/octet-stream]\n",
            "Saving to: ‘/content/drive/MyDrive/sleep-edf-telemetry/ST7182JR-Hypnogram.edf’\n",
            "\n",
            "ST7182JR-Hypnogram. 100%[===================>]   3.18K  --.-KB/s    in 0s      \n",
            "\n",
            "2025-04-19 13:01:18 (583 MB/s) - ‘/content/drive/MyDrive/sleep-edf-telemetry/ST7182JR-Hypnogram.edf’ saved [3258/3258]\n",
            "\n",
            "--2025-04-19 13:01:18--  https://physionet.org/files/sleep-edfx/1.0.0/sleep-telemetry/ST7191J0-PSG.edf\n",
            "Connecting to physionet.org (physionet.org)|18.18.42.54|:443... connected.\n",
            "HTTP request sent, awaiting response... 200 OK\n",
            "Length: 27709336 (26M) [application/octet-stream]\n",
            "Saving to: ‘/content/drive/MyDrive/sleep-edf-telemetry/ST7191J0-PSG.edf’\n",
            "\n",
            "ST7191J0-PSG.edf    100%[===================>]  26.42M   280KB/s    in 1m 45s  \n",
            "\n",
            "2025-04-19 13:03:04 (258 KB/s) - ‘/content/drive/MyDrive/sleep-edf-telemetry/ST7191J0-PSG.edf’ saved [27709336/27709336]\n",
            "\n",
            "--2025-04-19 13:03:04--  https://physionet.org/files/sleep-edfx/1.0.0/sleep-telemetry/ST7191JR-Hypnogram.edf\n",
            "Reusing existing connection to physionet.org:443.\n",
            "HTTP request sent, awaiting response... 200 OK\n",
            "Length: 4246 (4.1K) [application/octet-stream]\n",
            "Saving to: ‘/content/drive/MyDrive/sleep-edf-telemetry/ST7191JR-Hypnogram.edf’\n",
            "\n",
            "ST7191JR-Hypnogram. 100%[===================>]   4.15K  --.-KB/s    in 0s      \n",
            "\n",
            "2025-04-19 13:03:04 (554 MB/s) - ‘/content/drive/MyDrive/sleep-edf-telemetry/ST7191JR-Hypnogram.edf’ saved [4246/4246]\n",
            "\n",
            "--2025-04-19 13:03:04--  https://physionet.org/files/sleep-edfx/1.0.0/sleep-telemetry/ST7192J0-PSG.edf\n",
            "Reusing existing connection to physionet.org:443.\n",
            "HTTP request sent, awaiting response... 200 OK\n",
            "Length: 26979536 (26M) [application/octet-stream]\n",
            "Saving to: ‘/content/drive/MyDrive/sleep-edf-telemetry/ST7192J0-PSG.edf’\n",
            "\n",
            "ST7192J0-PSG.edf    100%[===================>]  25.73M   257KB/s    in 1m 54s  \n",
            "\n",
            "2025-04-19 13:04:59 (230 KB/s) - ‘/content/drive/MyDrive/sleep-edf-telemetry/ST7192J0-PSG.edf’ saved [26979536/26979536]\n",
            "\n",
            "--2025-04-19 13:04:59--  https://physionet.org/files/sleep-edfx/1.0.0/sleep-telemetry/ST7192JR-Hypnogram.edf\n",
            "Reusing existing connection to physionet.org:443.\n",
            "HTTP request sent, awaiting response... 200 OK\n",
            "Length: 2670 (2.6K) [application/octet-stream]\n",
            "Saving to: ‘/content/drive/MyDrive/sleep-edf-telemetry/ST7192JR-Hypnogram.edf’\n",
            "\n",
            "ST7192JR-Hypnogram. 100%[===================>]   2.61K  --.-KB/s    in 0s      \n",
            "\n",
            "2025-04-19 13:04:59 (367 MB/s) - ‘/content/drive/MyDrive/sleep-edf-telemetry/ST7192JR-Hypnogram.edf’ saved [2670/2670]\n",
            "\n",
            "--2025-04-19 13:04:59--  https://physionet.org/files/sleep-edfx/1.0.0/sleep-telemetry/ST7201J0-PSG.edf\n",
            "Reusing existing connection to physionet.org:443.\n",
            "HTTP request sent, awaiting response... 200 OK\n",
            "Length: 23879936 (23M) [application/octet-stream]\n",
            "Saving to: ‘/content/drive/MyDrive/sleep-edf-telemetry/ST7201J0-PSG.edf’\n",
            "\n",
            "ST7201J0-PSG.edf    100%[===================>]  22.77M   256KB/s    in 1m 40s  \n",
            "\n",
            "2025-04-19 13:06:39 (234 KB/s) - ‘/content/drive/MyDrive/sleep-edf-telemetry/ST7201J0-PSG.edf’ saved [23879936/23879936]\n",
            "\n",
            "--2025-04-19 13:06:39--  https://physionet.org/files/sleep-edfx/1.0.0/sleep-telemetry/ST7201JO-Hypnogram.edf\n",
            "Reusing existing connection to physionet.org:443.\n",
            "HTTP request sent, awaiting response... 200 OK\n",
            "Length: 4008 (3.9K) [application/octet-stream]\n",
            "Saving to: ‘/content/drive/MyDrive/sleep-edf-telemetry/ST7201JO-Hypnogram.edf’\n",
            "\n",
            "ST7201JO-Hypnogram. 100%[===================>]   3.91K  --.-KB/s    in 0s      \n",
            "\n",
            "2025-04-19 13:06:40 (509 MB/s) - ‘/content/drive/MyDrive/sleep-edf-telemetry/ST7201JO-Hypnogram.edf’ saved [4008/4008]\n",
            "\n",
            "--2025-04-19 13:06:40--  https://physionet.org/files/sleep-edfx/1.0.0/sleep-telemetry/ST7202J0-PSG.edf\n",
            "Reusing existing connection to physionet.org:443.\n",
            "HTTP request sent, awaiting response... 200 OK\n",
            "Length: 24601536 (23M) [application/octet-stream]\n",
            "Saving to: ‘/content/drive/MyDrive/sleep-edf-telemetry/ST7202J0-PSG.edf’\n",
            "\n",
            "ST7202J0-PSG.edf    100%[===================>]  23.46M   231KB/s    in 1m 40s  \n",
            "\n",
            "2025-04-19 13:08:20 (240 KB/s) - ‘/content/drive/MyDrive/sleep-edf-telemetry/ST7202J0-PSG.edf’ saved [24601536/24601536]\n",
            "\n",
            "--2025-04-19 13:08:20--  https://physionet.org/files/sleep-edfx/1.0.0/sleep-telemetry/ST7202JO-Hypnogram.edf\n",
            "Reusing existing connection to physionet.org:443.\n",
            "HTTP request sent, awaiting response... 200 OK\n",
            "Length: 3610 (3.5K) [application/octet-stream]\n",
            "Saving to: ‘/content/drive/MyDrive/sleep-edf-telemetry/ST7202JO-Hypnogram.edf’\n",
            "\n",
            "ST7202JO-Hypnogram. 100%[===================>]   3.53K  --.-KB/s    in 0s      \n",
            "\n",
            "2025-04-19 13:08:20 (450 MB/s) - ‘/content/drive/MyDrive/sleep-edf-telemetry/ST7202JO-Hypnogram.edf’ saved [3610/3610]\n",
            "\n",
            "--2025-04-19 13:08:20--  https://physionet.org/files/sleep-edfx/1.0.0/sleep-telemetry/ST7211J0-PSG.edf\n",
            "Reusing existing connection to physionet.org:443.\n",
            "HTTP request sent, awaiting response... 200 OK\n",
            "Length: 26544936 (25M) [application/octet-stream]\n",
            "Saving to: ‘/content/drive/MyDrive/sleep-edf-telemetry/ST7211J0-PSG.edf’\n",
            "\n",
            "ST7211J0-PSG.edf    100%[===================>]  25.31M   171KB/s    in 1m 55s  \n",
            "\n",
            "2025-04-19 13:10:16 (225 KB/s) - ‘/content/drive/MyDrive/sleep-edf-telemetry/ST7211J0-PSG.edf’ saved [26544936/26544936]\n",
            "\n",
            "--2025-04-19 13:10:16--  https://physionet.org/files/sleep-edfx/1.0.0/sleep-telemetry/ST7211JJ-Hypnogram.edf\n",
            "Reusing existing connection to physionet.org:443.\n",
            "HTTP request sent, awaiting response... 200 OK\n",
            "Length: 4742 (4.6K) [application/octet-stream]\n",
            "Saving to: ‘/content/drive/MyDrive/sleep-edf-telemetry/ST7211JJ-Hypnogram.edf’\n",
            "\n",
            "ST7211JJ-Hypnogram. 100%[===================>]   4.63K  --.-KB/s    in 0s      \n",
            "\n",
            "2025-04-19 13:10:16 (784 MB/s) - ‘/content/drive/MyDrive/sleep-edf-telemetry/ST7211JJ-Hypnogram.edf’ saved [4742/4742]\n",
            "\n",
            "--2025-04-19 13:10:16--  https://physionet.org/files/sleep-edfx/1.0.0/sleep-telemetry/ST7212J0-PSG.edf\n",
            "Reusing existing connection to physionet.org:443.\n",
            "HTTP request sent, awaiting response... 200 OK\n",
            "Length: 25929936 (25M) [application/octet-stream]\n",
            "Saving to: ‘/content/drive/MyDrive/sleep-edf-telemetry/ST7212J0-PSG.edf’\n",
            "\n",
            "ST7212J0-PSG.edf    100%[===================>]  24.73M   268KB/s    in 1m 51s  \n",
            "\n",
            "2025-04-19 13:12:07 (229 KB/s) - ‘/content/drive/MyDrive/sleep-edf-telemetry/ST7212J0-PSG.edf’ saved [25929936/25929936]\n",
            "\n",
            "--2025-04-19 13:12:07--  https://physionet.org/files/sleep-edfx/1.0.0/sleep-telemetry/ST7212JJ-Hypnogram.edf\n",
            "Reusing existing connection to physionet.org:443.\n",
            "HTTP request sent, awaiting response... 200 OK\n",
            "Length: 4126 (4.0K) [application/octet-stream]\n",
            "Saving to: ‘/content/drive/MyDrive/sleep-edf-telemetry/ST7212JJ-Hypnogram.edf’\n",
            "\n",
            "ST7212JJ-Hypnogram. 100%[===================>]   4.03K  --.-KB/s    in 0s      \n",
            "\n",
            "2025-04-19 13:12:07 (510 MB/s) - ‘/content/drive/MyDrive/sleep-edf-telemetry/ST7212JJ-Hypnogram.edf’ saved [4126/4126]\n",
            "\n",
            "--2025-04-19 13:12:07--  https://physionet.org/files/sleep-edfx/1.0.0/sleep-telemetry/ST7221J0-PSG.edf\n",
            "Reusing existing connection to physionet.org:443.\n",
            "HTTP request sent, awaiting response... 200 OK\n",
            "Length: 27028736 (26M) [application/octet-stream]\n",
            "Saving to: ‘/content/drive/MyDrive/sleep-edf-telemetry/ST7221J0-PSG.edf’\n",
            "\n",
            "ST7221J0-PSG.edf    100%[===================>]  25.78M   177KB/s    in 1m 45s  \n",
            "\n",
            "2025-04-19 13:13:53 (250 KB/s) - ‘/content/drive/MyDrive/sleep-edf-telemetry/ST7221J0-PSG.edf’ saved [27028736/27028736]\n",
            "\n",
            "--2025-04-19 13:13:53--  https://physionet.org/files/sleep-edfx/1.0.0/sleep-telemetry/ST7221JA-Hypnogram.edf\n",
            "Reusing existing connection to physionet.org:443.\n",
            "HTTP request sent, awaiting response... 200 OK\n",
            "Length: 4040 (3.9K) [application/octet-stream]\n",
            "Saving to: ‘/content/drive/MyDrive/sleep-edf-telemetry/ST7221JA-Hypnogram.edf’\n",
            "\n",
            "ST7221JA-Hypnogram. 100%[===================>]   3.95K  --.-KB/s    in 0s      \n",
            "\n",
            "2025-04-19 13:13:53 (633 MB/s) - ‘/content/drive/MyDrive/sleep-edf-telemetry/ST7221JA-Hypnogram.edf’ saved [4040/4040]\n",
            "\n",
            "--2025-04-19 13:13:53--  https://physionet.org/files/sleep-edfx/1.0.0/sleep-telemetry/ST7222J0-PSG.edf\n",
            "Reusing existing connection to physionet.org:443.\n",
            "HTTP request sent, awaiting response... 200 OK\n",
            "Length: 23568336 (22M) [application/octet-stream]\n",
            "Saving to: ‘/content/drive/MyDrive/sleep-edf-telemetry/ST7222J0-PSG.edf’\n",
            "\n",
            "ST7222J0-PSG.edf    100%[===================>]  22.48M   229KB/s    in 1m 50s  \n",
            "\n",
            "2025-04-19 13:15:44 (210 KB/s) - ‘/content/drive/MyDrive/sleep-edf-telemetry/ST7222J0-PSG.edf’ saved [23568336/23568336]\n",
            "\n",
            "--2025-04-19 13:15:44--  https://physionet.org/files/sleep-edfx/1.0.0/sleep-telemetry/ST7222JA-Hypnogram.edf\n",
            "Reusing existing connection to physionet.org:443.\n",
            "HTTP request sent, awaiting response... 200 OK\n",
            "Length: 3854 (3.8K) [application/octet-stream]\n",
            "Saving to: ‘/content/drive/MyDrive/sleep-edf-telemetry/ST7222JA-Hypnogram.edf’\n",
            "\n",
            "ST7222JA-Hypnogram. 100%[===================>]   3.76K  --.-KB/s    in 0s      \n",
            "\n",
            "2025-04-19 13:15:44 (645 MB/s) - ‘/content/drive/MyDrive/sleep-edf-telemetry/ST7222JA-Hypnogram.edf’ saved [3854/3854]\n",
            "\n",
            "--2025-04-19 13:15:44--  https://physionet.org/files/sleep-edfx/1.0.0/sleep-telemetry/ST7241J0-PSG.edf\n",
            "Reusing existing connection to physionet.org:443.\n",
            "HTTP request sent, awaiting response... 200 OK\n",
            "Length: 26741736 (26M) [application/octet-stream]\n",
            "Saving to: ‘/content/drive/MyDrive/sleep-edf-telemetry/ST7241J0-PSG.edf’\n",
            "\n",
            "ST7241J0-PSG.edf    100%[===================>]  25.50M   201KB/s    in 1m 49s  \n",
            "\n",
            "2025-04-19 13:17:33 (240 KB/s) - ‘/content/drive/MyDrive/sleep-edf-telemetry/ST7241J0-PSG.edf’ saved [26741736/26741736]\n",
            "\n",
            "--2025-04-19 13:17:33--  https://physionet.org/files/sleep-edfx/1.0.0/sleep-telemetry/ST7241JO-Hypnogram.edf\n",
            "Reusing existing connection to physionet.org:443.\n",
            "HTTP request sent, awaiting response... 200 OK\n",
            "Length: 3094 (3.0K) [application/octet-stream]\n",
            "Saving to: ‘/content/drive/MyDrive/sleep-edf-telemetry/ST7241JO-Hypnogram.edf’\n",
            "\n",
            "ST7241JO-Hypnogram. 100%[===================>]   3.02K  --.-KB/s    in 0s      \n",
            "\n",
            "2025-04-19 13:17:33 (470 MB/s) - ‘/content/drive/MyDrive/sleep-edf-telemetry/ST7241JO-Hypnogram.edf’ saved [3094/3094]\n",
            "\n",
            "--2025-04-19 13:17:33--  https://physionet.org/files/sleep-edfx/1.0.0/sleep-telemetry/ST7242J0-PSG.edf\n",
            "Reusing existing connection to physionet.org:443.\n",
            "HTTP request sent, awaiting response... 200 OK\n",
            "Length: 24175136 (23M) [application/octet-stream]\n",
            "Saving to: ‘/content/drive/MyDrive/sleep-edf-telemetry/ST7242J0-PSG.edf’\n",
            "\n",
            "ST7242J0-PSG.edf    100%[===================>]  23.05M   248KB/s    in 1m 44s  \n",
            "\n",
            "2025-04-19 13:19:18 (227 KB/s) - ‘/content/drive/MyDrive/sleep-edf-telemetry/ST7242J0-PSG.edf’ saved [24175136/24175136]\n",
            "\n",
            "--2025-04-19 13:19:18--  https://physionet.org/files/sleep-edfx/1.0.0/sleep-telemetry/ST7242JO-Hypnogram.edf\n",
            "Reusing existing connection to physionet.org:443.\n",
            "HTTP request sent, awaiting response... 200 OK\n",
            "Length: 4186 (4.1K) [application/octet-stream]\n",
            "Saving to: ‘/content/drive/MyDrive/sleep-edf-telemetry/ST7242JO-Hypnogram.edf’\n",
            "\n",
            "ST7242JO-Hypnogram. 100%[===================>]   4.09K  --.-KB/s    in 0s      \n",
            "\n",
            "2025-04-19 13:19:18 (785 MB/s) - ‘/content/drive/MyDrive/sleep-edf-telemetry/ST7242JO-Hypnogram.edf’ saved [4186/4186]\n",
            "\n",
            "FINISHED --2025-04-19 13:19:18--\n",
            "Total wall clock time: 1h 19m 54s\n",
            "Downloaded: 90 files, 1.0G in 1h 19m 29s (229 KB/s)\n"
          ]
        }
      ],
      "source": [
        "!wget -r -np -nH --cut-dirs=5 -A \"*PSG.edf,*Hypnogram.edf\" \\\n",
        "https://physionet.org/files/sleep-edfx/1.0.0/sleep-telemetry/ \\\n",
        "-P /content/drive/MyDrive/sleep-edf-telemetry/\n"
      ]
    },
    {
      "cell_type": "code",
      "source": [
        "from glob import glob\n",
        "edf_files = sorted(glob(\"/content/drive/MyDrive/sleep-edf-telemetry/*PSG.edf\"))\n",
        "hypnogram_files = sorted(glob(\"/content/drive/MyDrive/sleep-edf-telemetry/*Hypnogram.edf\"))\n",
        "\n",
        "print(\"PSG files:\", len(edf_files))\n",
        "print(\"Hypnogram files:\", len(hypnogram_files))\n"
      ],
      "metadata": {
        "colab": {
          "base_uri": "https://localhost:8080/"
        },
        "id": "C_e8PkGETCNF",
        "outputId": "88eb7ff8-00a4-455f-e4fd-0fa832df7c1f"
      },
      "execution_count": 4,
      "outputs": [
        {
          "output_type": "stream",
          "name": "stdout",
          "text": [
            "PSG files: 44\n",
            "Hypnogram files: 44\n"
          ]
        }
      ]
    },
    {
      "cell_type": "code",
      "execution_count": 17,
      "metadata": {
        "colab": {
          "base_uri": "https://localhost:8080/",
          "height": 1000
        },
        "id": "qThbpnu_rR0s",
        "outputId": "76c60675-6690-4552-d87a-a129c42b0914"
      },
      "outputs": [
        {
          "output_type": "stream",
          "name": "stderr",
          "text": [
            "<ipython-input-17-6e691d036670>:26: RuntimeWarning: Channels contain different highpass filters. Highest filter setting will be stored.\n",
            "  raw = mne.io.read_raw_edf(psg_path, preload=True, verbose=False)\n",
            "<ipython-input-17-6e691d036670>:26: RuntimeWarning: Channels contain different lowpass filters. Lowest filter setting will be stored.\n",
            "  raw = mne.io.read_raw_edf(psg_path, preload=True, verbose=False)\n"
          ]
        },
        {
          "output_type": "stream",
          "name": "stdout",
          "text": [
            "NOTE: pick_channels() is a legacy function. New code should use inst.pick(...).\n",
            "Sampling frequency of the instance is already 100.0, returning unmodified.\n"
          ]
        },
        {
          "output_type": "stream",
          "name": "stderr",
          "text": [
            "<ipython-input-17-6e691d036670>:26: RuntimeWarning: Channels contain different highpass filters. Highest filter setting will be stored.\n",
            "  raw = mne.io.read_raw_edf(psg_path, preload=True, verbose=False)\n",
            "<ipython-input-17-6e691d036670>:26: RuntimeWarning: Channels contain different lowpass filters. Lowest filter setting will be stored.\n",
            "  raw = mne.io.read_raw_edf(psg_path, preload=True, verbose=False)\n"
          ]
        },
        {
          "output_type": "stream",
          "name": "stdout",
          "text": [
            "NOTE: pick_channels() is a legacy function. New code should use inst.pick(...).\n",
            "Sampling frequency of the instance is already 100.0, returning unmodified.\n"
          ]
        },
        {
          "output_type": "stream",
          "name": "stderr",
          "text": [
            "<ipython-input-17-6e691d036670>:26: RuntimeWarning: Channels contain different highpass filters. Highest filter setting will be stored.\n",
            "  raw = mne.io.read_raw_edf(psg_path, preload=True, verbose=False)\n",
            "<ipython-input-17-6e691d036670>:26: RuntimeWarning: Channels contain different lowpass filters. Lowest filter setting will be stored.\n",
            "  raw = mne.io.read_raw_edf(psg_path, preload=True, verbose=False)\n"
          ]
        },
        {
          "output_type": "stream",
          "name": "stdout",
          "text": [
            "NOTE: pick_channels() is a legacy function. New code should use inst.pick(...).\n",
            "Sampling frequency of the instance is already 100.0, returning unmodified.\n"
          ]
        },
        {
          "output_type": "stream",
          "name": "stderr",
          "text": [
            "<ipython-input-17-6e691d036670>:26: RuntimeWarning: Channels contain different highpass filters. Highest filter setting will be stored.\n",
            "  raw = mne.io.read_raw_edf(psg_path, preload=True, verbose=False)\n",
            "<ipython-input-17-6e691d036670>:26: RuntimeWarning: Channels contain different lowpass filters. Lowest filter setting will be stored.\n",
            "  raw = mne.io.read_raw_edf(psg_path, preload=True, verbose=False)\n"
          ]
        },
        {
          "output_type": "stream",
          "name": "stdout",
          "text": [
            "NOTE: pick_channels() is a legacy function. New code should use inst.pick(...).\n",
            "Sampling frequency of the instance is already 100.0, returning unmodified.\n"
          ]
        },
        {
          "output_type": "stream",
          "name": "stderr",
          "text": [
            "<ipython-input-17-6e691d036670>:26: RuntimeWarning: Channels contain different highpass filters. Highest filter setting will be stored.\n",
            "  raw = mne.io.read_raw_edf(psg_path, preload=True, verbose=False)\n",
            "<ipython-input-17-6e691d036670>:26: RuntimeWarning: Channels contain different lowpass filters. Lowest filter setting will be stored.\n",
            "  raw = mne.io.read_raw_edf(psg_path, preload=True, verbose=False)\n"
          ]
        },
        {
          "output_type": "stream",
          "name": "stdout",
          "text": [
            "NOTE: pick_channels() is a legacy function. New code should use inst.pick(...).\n",
            "Sampling frequency of the instance is already 100.0, returning unmodified.\n"
          ]
        },
        {
          "output_type": "stream",
          "name": "stderr",
          "text": [
            "<ipython-input-17-6e691d036670>:26: RuntimeWarning: Channels contain different highpass filters. Highest filter setting will be stored.\n",
            "  raw = mne.io.read_raw_edf(psg_path, preload=True, verbose=False)\n",
            "<ipython-input-17-6e691d036670>:26: RuntimeWarning: Channels contain different lowpass filters. Lowest filter setting will be stored.\n",
            "  raw = mne.io.read_raw_edf(psg_path, preload=True, verbose=False)\n"
          ]
        },
        {
          "output_type": "stream",
          "name": "stdout",
          "text": [
            "NOTE: pick_channels() is a legacy function. New code should use inst.pick(...).\n",
            "Sampling frequency of the instance is already 100.0, returning unmodified.\n"
          ]
        },
        {
          "output_type": "stream",
          "name": "stderr",
          "text": [
            "<ipython-input-17-6e691d036670>:26: RuntimeWarning: Channels contain different highpass filters. Highest filter setting will be stored.\n",
            "  raw = mne.io.read_raw_edf(psg_path, preload=True, verbose=False)\n",
            "<ipython-input-17-6e691d036670>:26: RuntimeWarning: Channels contain different lowpass filters. Lowest filter setting will be stored.\n",
            "  raw = mne.io.read_raw_edf(psg_path, preload=True, verbose=False)\n"
          ]
        },
        {
          "output_type": "stream",
          "name": "stdout",
          "text": [
            "NOTE: pick_channels() is a legacy function. New code should use inst.pick(...).\n",
            "Sampling frequency of the instance is already 100.0, returning unmodified.\n"
          ]
        },
        {
          "output_type": "stream",
          "name": "stderr",
          "text": [
            "<ipython-input-17-6e691d036670>:26: RuntimeWarning: Channels contain different highpass filters. Highest filter setting will be stored.\n",
            "  raw = mne.io.read_raw_edf(psg_path, preload=True, verbose=False)\n",
            "<ipython-input-17-6e691d036670>:26: RuntimeWarning: Channels contain different lowpass filters. Lowest filter setting will be stored.\n",
            "  raw = mne.io.read_raw_edf(psg_path, preload=True, verbose=False)\n"
          ]
        },
        {
          "output_type": "stream",
          "name": "stdout",
          "text": [
            "NOTE: pick_channels() is a legacy function. New code should use inst.pick(...).\n",
            "Sampling frequency of the instance is already 100.0, returning unmodified.\n"
          ]
        },
        {
          "output_type": "stream",
          "name": "stderr",
          "text": [
            "<ipython-input-17-6e691d036670>:26: RuntimeWarning: Channels contain different highpass filters. Highest filter setting will be stored.\n",
            "  raw = mne.io.read_raw_edf(psg_path, preload=True, verbose=False)\n",
            "<ipython-input-17-6e691d036670>:26: RuntimeWarning: Channels contain different lowpass filters. Lowest filter setting will be stored.\n",
            "  raw = mne.io.read_raw_edf(psg_path, preload=True, verbose=False)\n"
          ]
        },
        {
          "output_type": "stream",
          "name": "stdout",
          "text": [
            "NOTE: pick_channels() is a legacy function. New code should use inst.pick(...).\n",
            "Sampling frequency of the instance is already 100.0, returning unmodified.\n"
          ]
        },
        {
          "output_type": "stream",
          "name": "stderr",
          "text": [
            "<ipython-input-17-6e691d036670>:26: RuntimeWarning: Channels contain different highpass filters. Highest filter setting will be stored.\n",
            "  raw = mne.io.read_raw_edf(psg_path, preload=True, verbose=False)\n",
            "<ipython-input-17-6e691d036670>:26: RuntimeWarning: Channels contain different lowpass filters. Lowest filter setting will be stored.\n",
            "  raw = mne.io.read_raw_edf(psg_path, preload=True, verbose=False)\n"
          ]
        },
        {
          "output_type": "stream",
          "name": "stdout",
          "text": [
            "NOTE: pick_channels() is a legacy function. New code should use inst.pick(...).\n",
            "Sampling frequency of the instance is already 100.0, returning unmodified.\n"
          ]
        },
        {
          "output_type": "stream",
          "name": "stderr",
          "text": [
            "<ipython-input-17-6e691d036670>:26: RuntimeWarning: Channels contain different highpass filters. Highest filter setting will be stored.\n",
            "  raw = mne.io.read_raw_edf(psg_path, preload=True, verbose=False)\n",
            "<ipython-input-17-6e691d036670>:26: RuntimeWarning: Channels contain different lowpass filters. Lowest filter setting will be stored.\n",
            "  raw = mne.io.read_raw_edf(psg_path, preload=True, verbose=False)\n"
          ]
        },
        {
          "output_type": "stream",
          "name": "stdout",
          "text": [
            "NOTE: pick_channels() is a legacy function. New code should use inst.pick(...).\n",
            "Sampling frequency of the instance is already 100.0, returning unmodified.\n"
          ]
        },
        {
          "output_type": "stream",
          "name": "stderr",
          "text": [
            "<ipython-input-17-6e691d036670>:26: RuntimeWarning: Channels contain different highpass filters. Highest filter setting will be stored.\n",
            "  raw = mne.io.read_raw_edf(psg_path, preload=True, verbose=False)\n",
            "<ipython-input-17-6e691d036670>:26: RuntimeWarning: Channels contain different lowpass filters. Lowest filter setting will be stored.\n",
            "  raw = mne.io.read_raw_edf(psg_path, preload=True, verbose=False)\n"
          ]
        },
        {
          "output_type": "stream",
          "name": "stdout",
          "text": [
            "NOTE: pick_channels() is a legacy function. New code should use inst.pick(...).\n",
            "Sampling frequency of the instance is already 100.0, returning unmodified.\n"
          ]
        },
        {
          "output_type": "stream",
          "name": "stderr",
          "text": [
            "<ipython-input-17-6e691d036670>:27: RuntimeWarning: Limited 1 annotation(s) that were expanding outside the data range.\n",
            "  raw.set_annotations(mne.read_annotations(hyp_path))\n",
            "<ipython-input-17-6e691d036670>:26: RuntimeWarning: Channels contain different highpass filters. Highest filter setting will be stored.\n",
            "  raw = mne.io.read_raw_edf(psg_path, preload=True, verbose=False)\n",
            "<ipython-input-17-6e691d036670>:26: RuntimeWarning: Channels contain different lowpass filters. Lowest filter setting will be stored.\n",
            "  raw = mne.io.read_raw_edf(psg_path, preload=True, verbose=False)\n"
          ]
        },
        {
          "output_type": "stream",
          "name": "stdout",
          "text": [
            "NOTE: pick_channels() is a legacy function. New code should use inst.pick(...).\n",
            "Sampling frequency of the instance is already 100.0, returning unmodified.\n"
          ]
        },
        {
          "output_type": "stream",
          "name": "stderr",
          "text": [
            "<ipython-input-17-6e691d036670>:27: RuntimeWarning: Limited 1 annotation(s) that were expanding outside the data range.\n",
            "  raw.set_annotations(mne.read_annotations(hyp_path))\n",
            "<ipython-input-17-6e691d036670>:26: RuntimeWarning: Channels contain different highpass filters. Highest filter setting will be stored.\n",
            "  raw = mne.io.read_raw_edf(psg_path, preload=True, verbose=False)\n",
            "<ipython-input-17-6e691d036670>:26: RuntimeWarning: Channels contain different lowpass filters. Lowest filter setting will be stored.\n",
            "  raw = mne.io.read_raw_edf(psg_path, preload=True, verbose=False)\n"
          ]
        },
        {
          "output_type": "stream",
          "name": "stdout",
          "text": [
            "NOTE: pick_channels() is a legacy function. New code should use inst.pick(...).\n",
            "Sampling frequency of the instance is already 100.0, returning unmodified.\n"
          ]
        },
        {
          "output_type": "stream",
          "name": "stderr",
          "text": [
            "<ipython-input-17-6e691d036670>:26: RuntimeWarning: Channels contain different highpass filters. Highest filter setting will be stored.\n",
            "  raw = mne.io.read_raw_edf(psg_path, preload=True, verbose=False)\n",
            "<ipython-input-17-6e691d036670>:26: RuntimeWarning: Channels contain different lowpass filters. Lowest filter setting will be stored.\n",
            "  raw = mne.io.read_raw_edf(psg_path, preload=True, verbose=False)\n"
          ]
        },
        {
          "output_type": "stream",
          "name": "stdout",
          "text": [
            "NOTE: pick_channels() is a legacy function. New code should use inst.pick(...).\n",
            "Sampling frequency of the instance is already 100.0, returning unmodified.\n"
          ]
        },
        {
          "output_type": "stream",
          "name": "stderr",
          "text": [
            "<ipython-input-17-6e691d036670>:26: RuntimeWarning: Channels contain different highpass filters. Highest filter setting will be stored.\n",
            "  raw = mne.io.read_raw_edf(psg_path, preload=True, verbose=False)\n",
            "<ipython-input-17-6e691d036670>:26: RuntimeWarning: Channels contain different lowpass filters. Lowest filter setting will be stored.\n",
            "  raw = mne.io.read_raw_edf(psg_path, preload=True, verbose=False)\n"
          ]
        },
        {
          "output_type": "stream",
          "name": "stdout",
          "text": [
            "NOTE: pick_channels() is a legacy function. New code should use inst.pick(...).\n",
            "Sampling frequency of the instance is already 100.0, returning unmodified.\n"
          ]
        },
        {
          "output_type": "stream",
          "name": "stderr",
          "text": [
            "<ipython-input-17-6e691d036670>:26: RuntimeWarning: Channels contain different highpass filters. Highest filter setting will be stored.\n",
            "  raw = mne.io.read_raw_edf(psg_path, preload=True, verbose=False)\n",
            "<ipython-input-17-6e691d036670>:26: RuntimeWarning: Channels contain different lowpass filters. Lowest filter setting will be stored.\n",
            "  raw = mne.io.read_raw_edf(psg_path, preload=True, verbose=False)\n"
          ]
        },
        {
          "output_type": "stream",
          "name": "stdout",
          "text": [
            "NOTE: pick_channels() is a legacy function. New code should use inst.pick(...).\n",
            "Sampling frequency of the instance is already 100.0, returning unmodified.\n"
          ]
        },
        {
          "output_type": "stream",
          "name": "stderr",
          "text": [
            "<ipython-input-17-6e691d036670>:26: RuntimeWarning: Channels contain different highpass filters. Highest filter setting will be stored.\n",
            "  raw = mne.io.read_raw_edf(psg_path, preload=True, verbose=False)\n",
            "<ipython-input-17-6e691d036670>:26: RuntimeWarning: Channels contain different lowpass filters. Lowest filter setting will be stored.\n",
            "  raw = mne.io.read_raw_edf(psg_path, preload=True, verbose=False)\n"
          ]
        },
        {
          "output_type": "stream",
          "name": "stdout",
          "text": [
            "NOTE: pick_channels() is a legacy function. New code should use inst.pick(...).\n",
            "Sampling frequency of the instance is already 100.0, returning unmodified.\n"
          ]
        },
        {
          "output_type": "stream",
          "name": "stderr",
          "text": [
            "<ipython-input-17-6e691d036670>:26: RuntimeWarning: Channels contain different highpass filters. Highest filter setting will be stored.\n",
            "  raw = mne.io.read_raw_edf(psg_path, preload=True, verbose=False)\n",
            "<ipython-input-17-6e691d036670>:26: RuntimeWarning: Channels contain different lowpass filters. Lowest filter setting will be stored.\n",
            "  raw = mne.io.read_raw_edf(psg_path, preload=True, verbose=False)\n"
          ]
        },
        {
          "output_type": "stream",
          "name": "stdout",
          "text": [
            "NOTE: pick_channels() is a legacy function. New code should use inst.pick(...).\n",
            "Sampling frequency of the instance is already 100.0, returning unmodified.\n"
          ]
        },
        {
          "output_type": "stream",
          "name": "stderr",
          "text": [
            "<ipython-input-17-6e691d036670>:26: RuntimeWarning: Channels contain different highpass filters. Highest filter setting will be stored.\n",
            "  raw = mne.io.read_raw_edf(psg_path, preload=True, verbose=False)\n",
            "<ipython-input-17-6e691d036670>:26: RuntimeWarning: Channels contain different lowpass filters. Lowest filter setting will be stored.\n",
            "  raw = mne.io.read_raw_edf(psg_path, preload=True, verbose=False)\n"
          ]
        },
        {
          "output_type": "stream",
          "name": "stdout",
          "text": [
            "NOTE: pick_channels() is a legacy function. New code should use inst.pick(...).\n",
            "Sampling frequency of the instance is already 100.0, returning unmodified.\n"
          ]
        },
        {
          "output_type": "stream",
          "name": "stderr",
          "text": [
            "<ipython-input-17-6e691d036670>:26: RuntimeWarning: Channels contain different highpass filters. Highest filter setting will be stored.\n",
            "  raw = mne.io.read_raw_edf(psg_path, preload=True, verbose=False)\n",
            "<ipython-input-17-6e691d036670>:26: RuntimeWarning: Channels contain different lowpass filters. Lowest filter setting will be stored.\n",
            "  raw = mne.io.read_raw_edf(psg_path, preload=True, verbose=False)\n"
          ]
        },
        {
          "output_type": "stream",
          "name": "stdout",
          "text": [
            "NOTE: pick_channels() is a legacy function. New code should use inst.pick(...).\n",
            "Sampling frequency of the instance is already 100.0, returning unmodified.\n"
          ]
        },
        {
          "output_type": "stream",
          "name": "stderr",
          "text": [
            "<ipython-input-17-6e691d036670>:26: RuntimeWarning: Channels contain different highpass filters. Highest filter setting will be stored.\n",
            "  raw = mne.io.read_raw_edf(psg_path, preload=True, verbose=False)\n",
            "<ipython-input-17-6e691d036670>:26: RuntimeWarning: Channels contain different lowpass filters. Lowest filter setting will be stored.\n",
            "  raw = mne.io.read_raw_edf(psg_path, preload=True, verbose=False)\n"
          ]
        },
        {
          "output_type": "stream",
          "name": "stdout",
          "text": [
            "NOTE: pick_channels() is a legacy function. New code should use inst.pick(...).\n",
            "Sampling frequency of the instance is already 100.0, returning unmodified.\n"
          ]
        },
        {
          "output_type": "stream",
          "name": "stderr",
          "text": [
            "<ipython-input-17-6e691d036670>:26: RuntimeWarning: Channels contain different highpass filters. Highest filter setting will be stored.\n",
            "  raw = mne.io.read_raw_edf(psg_path, preload=True, verbose=False)\n",
            "<ipython-input-17-6e691d036670>:26: RuntimeWarning: Channels contain different lowpass filters. Lowest filter setting will be stored.\n",
            "  raw = mne.io.read_raw_edf(psg_path, preload=True, verbose=False)\n"
          ]
        },
        {
          "output_type": "stream",
          "name": "stdout",
          "text": [
            "NOTE: pick_channels() is a legacy function. New code should use inst.pick(...).\n",
            "Sampling frequency of the instance is already 100.0, returning unmodified.\n"
          ]
        },
        {
          "output_type": "stream",
          "name": "stderr",
          "text": [
            "<ipython-input-17-6e691d036670>:26: RuntimeWarning: Channels contain different highpass filters. Highest filter setting will be stored.\n",
            "  raw = mne.io.read_raw_edf(psg_path, preload=True, verbose=False)\n",
            "<ipython-input-17-6e691d036670>:26: RuntimeWarning: Channels contain different lowpass filters. Lowest filter setting will be stored.\n",
            "  raw = mne.io.read_raw_edf(psg_path, preload=True, verbose=False)\n"
          ]
        },
        {
          "output_type": "stream",
          "name": "stdout",
          "text": [
            "NOTE: pick_channels() is a legacy function. New code should use inst.pick(...).\n",
            "Sampling frequency of the instance is already 100.0, returning unmodified.\n"
          ]
        },
        {
          "output_type": "stream",
          "name": "stderr",
          "text": [
            "<ipython-input-17-6e691d036670>:26: RuntimeWarning: Channels contain different highpass filters. Highest filter setting will be stored.\n",
            "  raw = mne.io.read_raw_edf(psg_path, preload=True, verbose=False)\n",
            "<ipython-input-17-6e691d036670>:26: RuntimeWarning: Channels contain different lowpass filters. Lowest filter setting will be stored.\n",
            "  raw = mne.io.read_raw_edf(psg_path, preload=True, verbose=False)\n"
          ]
        },
        {
          "output_type": "stream",
          "name": "stdout",
          "text": [
            "NOTE: pick_channels() is a legacy function. New code should use inst.pick(...).\n",
            "Sampling frequency of the instance is already 100.0, returning unmodified.\n"
          ]
        },
        {
          "output_type": "stream",
          "name": "stderr",
          "text": [
            "<ipython-input-17-6e691d036670>:26: RuntimeWarning: Channels contain different highpass filters. Highest filter setting will be stored.\n",
            "  raw = mne.io.read_raw_edf(psg_path, preload=True, verbose=False)\n",
            "<ipython-input-17-6e691d036670>:26: RuntimeWarning: Channels contain different lowpass filters. Lowest filter setting will be stored.\n",
            "  raw = mne.io.read_raw_edf(psg_path, preload=True, verbose=False)\n"
          ]
        },
        {
          "output_type": "stream",
          "name": "stdout",
          "text": [
            "NOTE: pick_channels() is a legacy function. New code should use inst.pick(...).\n",
            "Sampling frequency of the instance is already 100.0, returning unmodified.\n"
          ]
        },
        {
          "output_type": "stream",
          "name": "stderr",
          "text": [
            "<ipython-input-17-6e691d036670>:26: RuntimeWarning: Channels contain different highpass filters. Highest filter setting will be stored.\n",
            "  raw = mne.io.read_raw_edf(psg_path, preload=True, verbose=False)\n",
            "<ipython-input-17-6e691d036670>:26: RuntimeWarning: Channels contain different lowpass filters. Lowest filter setting will be stored.\n",
            "  raw = mne.io.read_raw_edf(psg_path, preload=True, verbose=False)\n"
          ]
        },
        {
          "output_type": "stream",
          "name": "stdout",
          "text": [
            "NOTE: pick_channels() is a legacy function. New code should use inst.pick(...).\n",
            "Sampling frequency of the instance is already 100.0, returning unmodified.\n"
          ]
        },
        {
          "output_type": "stream",
          "name": "stderr",
          "text": [
            "<ipython-input-17-6e691d036670>:26: RuntimeWarning: Channels contain different highpass filters. Highest filter setting will be stored.\n",
            "  raw = mne.io.read_raw_edf(psg_path, preload=True, verbose=False)\n",
            "<ipython-input-17-6e691d036670>:26: RuntimeWarning: Channels contain different lowpass filters. Lowest filter setting will be stored.\n",
            "  raw = mne.io.read_raw_edf(psg_path, preload=True, verbose=False)\n"
          ]
        },
        {
          "output_type": "stream",
          "name": "stdout",
          "text": [
            "NOTE: pick_channels() is a legacy function. New code should use inst.pick(...).\n",
            "Sampling frequency of the instance is already 100.0, returning unmodified.\n"
          ]
        },
        {
          "output_type": "stream",
          "name": "stderr",
          "text": [
            "<ipython-input-17-6e691d036670>:26: RuntimeWarning: Channels contain different highpass filters. Highest filter setting will be stored.\n",
            "  raw = mne.io.read_raw_edf(psg_path, preload=True, verbose=False)\n",
            "<ipython-input-17-6e691d036670>:26: RuntimeWarning: Channels contain different lowpass filters. Lowest filter setting will be stored.\n",
            "  raw = mne.io.read_raw_edf(psg_path, preload=True, verbose=False)\n"
          ]
        },
        {
          "output_type": "stream",
          "name": "stdout",
          "text": [
            "NOTE: pick_channels() is a legacy function. New code should use inst.pick(...).\n",
            "Sampling frequency of the instance is already 100.0, returning unmodified.\n"
          ]
        },
        {
          "output_type": "stream",
          "name": "stderr",
          "text": [
            "<ipython-input-17-6e691d036670>:26: RuntimeWarning: Channels contain different highpass filters. Highest filter setting will be stored.\n",
            "  raw = mne.io.read_raw_edf(psg_path, preload=True, verbose=False)\n",
            "<ipython-input-17-6e691d036670>:26: RuntimeWarning: Channels contain different lowpass filters. Lowest filter setting will be stored.\n",
            "  raw = mne.io.read_raw_edf(psg_path, preload=True, verbose=False)\n"
          ]
        },
        {
          "output_type": "stream",
          "name": "stdout",
          "text": [
            "NOTE: pick_channels() is a legacy function. New code should use inst.pick(...).\n",
            "Sampling frequency of the instance is already 100.0, returning unmodified.\n"
          ]
        },
        {
          "output_type": "stream",
          "name": "stderr",
          "text": [
            "<ipython-input-17-6e691d036670>:26: RuntimeWarning: Channels contain different highpass filters. Highest filter setting will be stored.\n",
            "  raw = mne.io.read_raw_edf(psg_path, preload=True, verbose=False)\n",
            "<ipython-input-17-6e691d036670>:26: RuntimeWarning: Channels contain different lowpass filters. Lowest filter setting will be stored.\n",
            "  raw = mne.io.read_raw_edf(psg_path, preload=True, verbose=False)\n"
          ]
        },
        {
          "output_type": "stream",
          "name": "stdout",
          "text": [
            "NOTE: pick_channels() is a legacy function. New code should use inst.pick(...).\n",
            "Sampling frequency of the instance is already 100.0, returning unmodified.\n"
          ]
        },
        {
          "output_type": "stream",
          "name": "stderr",
          "text": [
            "<ipython-input-17-6e691d036670>:27: RuntimeWarning: Limited 1 annotation(s) that were expanding outside the data range.\n",
            "  raw.set_annotations(mne.read_annotations(hyp_path))\n",
            "<ipython-input-17-6e691d036670>:26: RuntimeWarning: Channels contain different highpass filters. Highest filter setting will be stored.\n",
            "  raw = mne.io.read_raw_edf(psg_path, preload=True, verbose=False)\n",
            "<ipython-input-17-6e691d036670>:26: RuntimeWarning: Channels contain different lowpass filters. Lowest filter setting will be stored.\n",
            "  raw = mne.io.read_raw_edf(psg_path, preload=True, verbose=False)\n"
          ]
        },
        {
          "output_type": "stream",
          "name": "stdout",
          "text": [
            "NOTE: pick_channels() is a legacy function. New code should use inst.pick(...).\n",
            "Sampling frequency of the instance is already 100.0, returning unmodified.\n"
          ]
        },
        {
          "output_type": "stream",
          "name": "stderr",
          "text": [
            "<ipython-input-17-6e691d036670>:27: RuntimeWarning: Limited 1 annotation(s) that were expanding outside the data range.\n",
            "  raw.set_annotations(mne.read_annotations(hyp_path))\n",
            "<ipython-input-17-6e691d036670>:26: RuntimeWarning: Channels contain different highpass filters. Highest filter setting will be stored.\n",
            "  raw = mne.io.read_raw_edf(psg_path, preload=True, verbose=False)\n",
            "<ipython-input-17-6e691d036670>:26: RuntimeWarning: Channels contain different lowpass filters. Lowest filter setting will be stored.\n",
            "  raw = mne.io.read_raw_edf(psg_path, preload=True, verbose=False)\n"
          ]
        },
        {
          "output_type": "stream",
          "name": "stdout",
          "text": [
            "NOTE: pick_channels() is a legacy function. New code should use inst.pick(...).\n",
            "Sampling frequency of the instance is already 100.0, returning unmodified.\n"
          ]
        },
        {
          "output_type": "stream",
          "name": "stderr",
          "text": [
            "<ipython-input-17-6e691d036670>:26: RuntimeWarning: Channels contain different highpass filters. Highest filter setting will be stored.\n",
            "  raw = mne.io.read_raw_edf(psg_path, preload=True, verbose=False)\n",
            "<ipython-input-17-6e691d036670>:26: RuntimeWarning: Channels contain different lowpass filters. Lowest filter setting will be stored.\n",
            "  raw = mne.io.read_raw_edf(psg_path, preload=True, verbose=False)\n"
          ]
        },
        {
          "output_type": "stream",
          "name": "stdout",
          "text": [
            "NOTE: pick_channels() is a legacy function. New code should use inst.pick(...).\n",
            "Sampling frequency of the instance is already 100.0, returning unmodified.\n"
          ]
        },
        {
          "output_type": "stream",
          "name": "stderr",
          "text": [
            "<ipython-input-17-6e691d036670>:26: RuntimeWarning: Channels contain different highpass filters. Highest filter setting will be stored.\n",
            "  raw = mne.io.read_raw_edf(psg_path, preload=True, verbose=False)\n",
            "<ipython-input-17-6e691d036670>:26: RuntimeWarning: Channels contain different lowpass filters. Lowest filter setting will be stored.\n",
            "  raw = mne.io.read_raw_edf(psg_path, preload=True, verbose=False)\n"
          ]
        },
        {
          "output_type": "stream",
          "name": "stdout",
          "text": [
            "NOTE: pick_channels() is a legacy function. New code should use inst.pick(...).\n",
            "Sampling frequency of the instance is already 100.0, returning unmodified.\n"
          ]
        },
        {
          "output_type": "stream",
          "name": "stderr",
          "text": [
            "<ipython-input-17-6e691d036670>:26: RuntimeWarning: Channels contain different highpass filters. Highest filter setting will be stored.\n",
            "  raw = mne.io.read_raw_edf(psg_path, preload=True, verbose=False)\n",
            "<ipython-input-17-6e691d036670>:26: RuntimeWarning: Channels contain different lowpass filters. Lowest filter setting will be stored.\n",
            "  raw = mne.io.read_raw_edf(psg_path, preload=True, verbose=False)\n"
          ]
        },
        {
          "output_type": "stream",
          "name": "stdout",
          "text": [
            "NOTE: pick_channels() is a legacy function. New code should use inst.pick(...).\n",
            "Sampling frequency of the instance is already 100.0, returning unmodified.\n"
          ]
        },
        {
          "output_type": "stream",
          "name": "stderr",
          "text": [
            "<ipython-input-17-6e691d036670>:26: RuntimeWarning: Channels contain different highpass filters. Highest filter setting will be stored.\n",
            "  raw = mne.io.read_raw_edf(psg_path, preload=True, verbose=False)\n",
            "<ipython-input-17-6e691d036670>:26: RuntimeWarning: Channels contain different lowpass filters. Lowest filter setting will be stored.\n",
            "  raw = mne.io.read_raw_edf(psg_path, preload=True, verbose=False)\n"
          ]
        },
        {
          "output_type": "stream",
          "name": "stdout",
          "text": [
            "NOTE: pick_channels() is a legacy function. New code should use inst.pick(...).\n",
            "Sampling frequency of the instance is already 100.0, returning unmodified.\n"
          ]
        },
        {
          "output_type": "stream",
          "name": "stderr",
          "text": [
            "<ipython-input-17-6e691d036670>:27: RuntimeWarning: Limited 1 annotation(s) that were expanding outside the data range.\n",
            "  raw.set_annotations(mne.read_annotations(hyp_path))\n",
            "<ipython-input-17-6e691d036670>:26: RuntimeWarning: Channels contain different highpass filters. Highest filter setting will be stored.\n",
            "  raw = mne.io.read_raw_edf(psg_path, preload=True, verbose=False)\n",
            "<ipython-input-17-6e691d036670>:26: RuntimeWarning: Channels contain different lowpass filters. Lowest filter setting will be stored.\n",
            "  raw = mne.io.read_raw_edf(psg_path, preload=True, verbose=False)\n"
          ]
        },
        {
          "output_type": "stream",
          "name": "stdout",
          "text": [
            "NOTE: pick_channels() is a legacy function. New code should use inst.pick(...).\n",
            "Sampling frequency of the instance is already 100.0, returning unmodified.\n"
          ]
        },
        {
          "output_type": "stream",
          "name": "stderr",
          "text": [
            "<ipython-input-17-6e691d036670>:26: RuntimeWarning: Channels contain different highpass filters. Highest filter setting will be stored.\n",
            "  raw = mne.io.read_raw_edf(psg_path, preload=True, verbose=False)\n",
            "<ipython-input-17-6e691d036670>:26: RuntimeWarning: Channels contain different lowpass filters. Lowest filter setting will be stored.\n",
            "  raw = mne.io.read_raw_edf(psg_path, preload=True, verbose=False)\n"
          ]
        },
        {
          "output_type": "stream",
          "name": "stdout",
          "text": [
            "NOTE: pick_channels() is a legacy function. New code should use inst.pick(...).\n",
            "Sampling frequency of the instance is already 100.0, returning unmodified.\n"
          ]
        },
        {
          "output_type": "stream",
          "name": "stderr",
          "text": [
            "<ipython-input-17-6e691d036670>:26: RuntimeWarning: Channels contain different highpass filters. Highest filter setting will be stored.\n",
            "  raw = mne.io.read_raw_edf(psg_path, preload=True, verbose=False)\n",
            "<ipython-input-17-6e691d036670>:26: RuntimeWarning: Channels contain different lowpass filters. Lowest filter setting will be stored.\n",
            "  raw = mne.io.read_raw_edf(psg_path, preload=True, verbose=False)\n"
          ]
        },
        {
          "output_type": "stream",
          "name": "stdout",
          "text": [
            "NOTE: pick_channels() is a legacy function. New code should use inst.pick(...).\n",
            "Sampling frequency of the instance is already 100.0, returning unmodified.\n"
          ]
        },
        {
          "output_type": "stream",
          "name": "stderr",
          "text": [
            "<ipython-input-17-6e691d036670>:26: RuntimeWarning: Channels contain different highpass filters. Highest filter setting will be stored.\n",
            "  raw = mne.io.read_raw_edf(psg_path, preload=True, verbose=False)\n",
            "<ipython-input-17-6e691d036670>:26: RuntimeWarning: Channels contain different lowpass filters. Lowest filter setting will be stored.\n",
            "  raw = mne.io.read_raw_edf(psg_path, preload=True, verbose=False)\n"
          ]
        },
        {
          "output_type": "stream",
          "name": "stdout",
          "text": [
            "NOTE: pick_channels() is a legacy function. New code should use inst.pick(...).\n",
            "Sampling frequency of the instance is already 100.0, returning unmodified.\n"
          ]
        },
        {
          "output_type": "stream",
          "name": "stderr",
          "text": [
            "<ipython-input-17-6e691d036670>:26: RuntimeWarning: Channels contain different highpass filters. Highest filter setting will be stored.\n",
            "  raw = mne.io.read_raw_edf(psg_path, preload=True, verbose=False)\n",
            "<ipython-input-17-6e691d036670>:26: RuntimeWarning: Channels contain different lowpass filters. Lowest filter setting will be stored.\n",
            "  raw = mne.io.read_raw_edf(psg_path, preload=True, verbose=False)\n"
          ]
        },
        {
          "output_type": "stream",
          "name": "stdout",
          "text": [
            "NOTE: pick_channels() is a legacy function. New code should use inst.pick(...).\n",
            "Sampling frequency of the instance is already 100.0, returning unmodified.\n"
          ]
        },
        {
          "output_type": "stream",
          "name": "stderr",
          "text": [
            "<ipython-input-17-6e691d036670>:26: RuntimeWarning: Channels contain different highpass filters. Highest filter setting will be stored.\n",
            "  raw = mne.io.read_raw_edf(psg_path, preload=True, verbose=False)\n",
            "<ipython-input-17-6e691d036670>:26: RuntimeWarning: Channels contain different lowpass filters. Lowest filter setting will be stored.\n",
            "  raw = mne.io.read_raw_edf(psg_path, preload=True, verbose=False)\n"
          ]
        },
        {
          "output_type": "stream",
          "name": "stdout",
          "text": [
            "NOTE: pick_channels() is a legacy function. New code should use inst.pick(...).\n",
            "Sampling frequency of the instance is already 100.0, returning unmodified.\n"
          ]
        },
        {
          "output_type": "stream",
          "name": "stderr",
          "text": [
            "<ipython-input-17-6e691d036670>:26: RuntimeWarning: Channels contain different highpass filters. Highest filter setting will be stored.\n",
            "  raw = mne.io.read_raw_edf(psg_path, preload=True, verbose=False)\n",
            "<ipython-input-17-6e691d036670>:26: RuntimeWarning: Channels contain different lowpass filters. Lowest filter setting will be stored.\n",
            "  raw = mne.io.read_raw_edf(psg_path, preload=True, verbose=False)\n"
          ]
        },
        {
          "output_type": "stream",
          "name": "stdout",
          "text": [
            "NOTE: pick_channels() is a legacy function. New code should use inst.pick(...).\n",
            "Sampling frequency of the instance is already 100.0, returning unmodified.\n",
            "✅ EEG shape: (6026, 30, 100) Labels: (6026,)\n",
            "📌 Unique subjects: 44\n"
          ]
        },
        {
          "output_type": "display_data",
          "data": {
            "text/plain": [
              "<Figure size 640x480 with 1 Axes>"
            ],
            "image/png": "[encoded data removed]"
          },
          "metadata": {}
        }
      ],
      "source": [
        "from glob import glob\n",
        "import mne\n",
        "import numpy as np\n",
        "import matplotlib.pyplot as plt\n",
        "from collections import Counter\n",
        "\n",
        "# File paths (update if needed)\n",
        "edf_files = sorted(glob(\"/content/drive/MyDrive/sleep-edf-telemetry/*PSG.edf\"))\n",
        "hypnogram_files = sorted(glob(\"/content/drive/MyDrive/sleep-edf-telemetry/*Hypnogram.edf\"))\n",
        "\n",
        "# Sleep stage mapping\n",
        "stage_mapping = {\n",
        "    \"Sleep stage W\": 0, \"Sleep stage 1\": 1, \"Sleep stage 2\": 2,\n",
        "    \"Sleep stage 3\": 3, \"Sleep stage 4\": 3, \"Sleep stage R\": 4\n",
        "}\n",
        "\n",
        "# Containers\n",
        "all_epochs = []\n",
        "all_labels = []\n",
        "subject_per_epoch = []  # ✅ NEW: tracks subject ID per epoch\n",
        "\n",
        "for psg_path, hyp_path in zip(edf_files, hypnogram_files):\n",
        "    try:\n",
        "        subject_id = psg_path.split(\"/\")[-1].split(\"-\")[0]\n",
        "\n",
        "        raw = mne.io.read_raw_edf(psg_path, preload=True, verbose=False)\n",
        "        raw.set_annotations(mne.read_annotations(hyp_path))\n",
        "\n",
        "        eeg_channels = [ch for ch in raw.ch_names if \"Fpz-Cz\" in ch or \"EEG Fpz-Cz\" in ch]\n",
        "        if not eeg_channels:\n",
        "            print(f\"⚠️ Skipping {subject_id} — no Fpz-Cz channel found\")\n",
        "            continue\n",
        "\n",
        "        raw.pick_channels(eeg_channels)\n",
        "        raw.resample(100)\n",
        "\n",
        "        eeg = raw.get_data()[0]\n",
        "        sfreq = raw.info['sfreq']\n",
        "        epoch_samples = int(30 * sfreq)\n",
        "\n",
        "        for ann in raw.annotations:\n",
        "            label = stage_mapping.get(ann[\"description\"])\n",
        "            if label is None:\n",
        "                continue\n",
        "\n",
        "            start = int(ann[\"onset\"] * sfreq)\n",
        "            stop = start + epoch_samples\n",
        "            if stop > len(eeg):\n",
        "                continue\n",
        "\n",
        "            segment = eeg[start:stop]\n",
        "            frames = [segment[i:i+100] for i in range(0, epoch_samples, 100)]\n",
        "            if len(frames) == 30:\n",
        "                all_epochs.append(frames)\n",
        "                all_labels.append(label)\n",
        "                subject_per_epoch.append(subject_id)  # ✅ Save subject per epoch\n",
        "\n",
        "    except Exception as e:\n",
        "        print(f\"❌ Error with {psg_path}: {e}\")\n",
        "        continue\n",
        "\n",
        "# Convert to arrays\n",
        "X = np.array(all_epochs)\n",
        "y = np.array(all_labels)\n",
        "subject_per_epoch = np.array(subject_per_epoch)\n",
        "\n",
        "# Save to disk\n",
        "np.save(\"X_sleepedf.npy\", X)\n",
        "np.save(\"y_sleepedf.npy\", y)\n",
        "np.save(\"subject_ids.npy\", subject_per_epoch)\n",
        "\n",
        "# Quick check\n",
        "print(\"✅ EEG shape:\", X.shape, \"Labels:\", y.shape)\n",
        "print(\"📌 Unique subjects:\", len(set(subject_per_epoch)))\n",
        "\n",
        "# Plot class distribution\n",
        "label_names = ['W', 'N1', 'N2', 'N3', 'REM']\n",
        "label_counts = Counter(y)\n",
        "plt.bar(label_names, [label_counts.get(i, 0) for i in range(5)])\n",
        "plt.title(\"Sleep Stage Distribution\")\n",
        "plt.xlabel(\"Stage\")\n",
        "plt.ylabel(\"Count\")\n",
        "plt.grid(True)\n",
        "plt.show()\n"
      ]
    },
    {
      "cell_type": "code",
      "source": [
        "# Load preprocessed data\n",
        "X = np.load(\"X_sleepedf.npy\", mmap_mode='r')\n",
        "y = np.load(\"y_sleepedf.npy\", mmap_mode='r')\n",
        "subject_per_epoch = np.load(\"subject_ids.npy\", allow_pickle=True)\n",
        "\n",
        "# Subject-wise train-test split\n",
        "from sklearn.model_selection import train_test_split\n",
        "\n",
        "unique_subjects = sorted(list(set(subject_per_epoch)))\n",
        "train_subs, val_subs = train_test_split(unique_subjects, test_size=0.2, random_state=42)\n",
        "\n",
        "train_idx = [i for i, sid in enumerate(subject_per_epoch) if sid in train_subs]\n",
        "val_idx = [i for i, sid in enumerate(subject_per_epoch) if sid in val_subs]\n",
        "\n",
        "print(\"✅ Train epochs:\", len(train_idx))\n",
        "print(\"✅ Val epochs:\", len(val_idx))\n"
      ],
      "metadata": {
        "colab": {
          "base_uri": "https://localhost:8080/"
        },
        "id": "hnM9fdlLJjtN",
        "outputId": "dae90a13-1c94-4aa2-b9c7-2b084f77650d"
      },
      "execution_count": 18,
      "outputs": [
        {
          "output_type": "stream",
          "name": "stdout",
          "text": [
            "✅ Train epochs: 4896\n",
            "✅ Val epochs: 1130\n"
          ]
        }
      ]
    },
    {
      "cell_type": "code",
      "source": [
        "import numpy as np\n",
        "from sklearn.model_selection import train_test_split\n",
        "\n",
        "# Load memory-mapped EEG data\n",
        "X = np.load(\"/content/drive/MyDrive/sleep-edf-telemetry/X_sleepedf.npy\", mmap_mode='r')\n",
        "y = np.load(\"/content/drive/MyDrive/sleep-edf-telemetry/y_sleepedf.npy\", mmap_mode='r')\n",
        "\n",
        "from sklearn.model_selection import train_test_split\n",
        "\n",
        "# Create train/val subject ID lists\n",
        "unique_subjects = sorted(list(set(subject_ids)))\n",
        "train_subs, val_subs = train_test_split(unique_subjects, test_size=0.2, random_state=42)\n",
        "\n",
        "print(\"🧪 Train subjects:\", len(train_subs))\n",
        "print(\"🔬 Val subjects:\", len(val_subs))\n",
        "\n"
      ],
      "metadata": {
        "colab": {
          "base_uri": "https://localhost:8080/"
        },
        "id": "uyue7zR4DPw7",
        "outputId": "85bdb9fd-740b-46f5-b901-2bca9823e12b"
      },
      "execution_count": 16,
      "outputs": [
        {
          "output_type": "stream",
          "name": "stdout",
          "text": [
            "🧪 Train subjects: 35\n",
            "🔬 Val subjects: 9\n"
          ]
        }
      ]
    },
    {
      "cell_type": "code",
      "source": [
        "import numpy as np\n",
        "from sklearn.model_selection import train_test_split\n",
        "import tensorflow as tf\n",
        "\n",
        "\n",
        "class SequenceGenerator(tf.keras.utils.Sequence):\n",
        "    def __init__(self, X, y, indices, batch_size=2, seq_len=20):\n",
        "        self.X = X\n",
        "        self.y = y\n",
        "        self.indices = indices\n",
        "        self.batch_size = batch_size\n",
        "        self.seq_len = seq_len\n",
        "        self.valid_starts = [i for i in self.indices if i + seq_len <= len(X)]\n",
        "\n",
        "    def __len__(self):\n",
        "        return int(np.ceil(len(self.valid_starts) / self.batch_size))\n",
        "\n",
        "    def __getitem__(self, idx):\n",
        "        batch_starts = self.valid_starts[idx * self.batch_size:(idx + 1) * self.batch_size]\n",
        "        batch_x = np.array([self.X[i:i+self.seq_len] for i in batch_starts])\n",
        "        batch_y = np.array([self.y[i:i+self.seq_len] for i in batch_starts], dtype=np.int32)\n",
        "        return batch_x, batch_y\n",
        "\n"
      ],
      "metadata": {
        "id": "6fZFslutB5Jb"
      },
      "execution_count": 11,
      "outputs": []
    },
    {
      "cell_type": "code",
      "source": [
        "seq_len = 20\n",
        "batch_size = 2\n",
        "\n",
        "train_gen = SequenceGenerator(X, y, train_idx, batch_size=batch_size, seq_len=seq_len)\n",
        "val_gen = SequenceGenerator(X, y, val_idx, batch_size=batch_size, seq_len=seq_len)\n",
        "\n"
      ],
      "metadata": {
        "id": "s70rPOf1xKRL"
      },
      "execution_count": 19,
      "outputs": []
    },
    {
      "cell_type": "code",
      "execution_count": 20,
      "metadata": {
        "id": "coeDSdcoV2xM"
      },
      "outputs": [],
      "source": [
        "from tensorflow.keras import layers, models\n",
        "\n",
        "def build_seqsleepnet(input_shape=(20, 30, 100), num_classes=5, hidden_units=128):\n",
        "    # Frame-level encoder block (CNN → MaxPool → Flatten)\n",
        "    def frame_encoder():\n",
        "        input_frame = tf.keras.Input(shape=(30, 100))\n",
        "        x = layers.Conv1D(64, kernel_size=5, activation='relu', padding='same')(input_frame)\n",
        "        x = layers.MaxPooling1D(pool_size=2)(x)\n",
        "        x = layers.Flatten()(x)\n",
        "        return models.Model(inputs=input_frame, outputs=x)\n",
        "\n",
        "    frame_model = frame_encoder()\n",
        "\n",
        "    # Input shape: (epochs, frames, features)\n",
        "    input_layer = tf.keras.Input(shape=input_shape)\n",
        "\n",
        "    # Apply frame encoder to each epoch (i.e. 30 frames)\n",
        "    x = layers.TimeDistributed(frame_model)(input_layer)\n",
        "\n",
        "    # Epoch-level BiLSTM\n",
        "    x = layers.Bidirectional(layers.LSTM(hidden_units, return_sequences=True))(x)\n",
        "    x = layers.Dropout(0.3)(x)\n",
        "\n",
        "    # Sequence-level BiLSTM\n",
        "    x = layers.Bidirectional(layers.LSTM(hidden_units, return_sequences=True))(x)\n",
        "\n",
        "    # Per-epoch softmax classification\n",
        "    output = layers.TimeDistributed(layers.Dense(num_classes, activation='softmax'))(x)\n",
        "\n",
        "    return models.Model(inputs=input_layer, outputs=output)\n"
      ]
    },
    {
      "cell_type": "code",
      "source": [
        "model = build_seqsleepnet(input_shape=(seq_len, 30, 100))\n",
        "model.compile(optimizer='adam', loss='sparse_categorical_crossentropy', metrics=['accuracy'])\n",
        "\n",
        "model.fit(train_gen, validation_data=val_gen, epochs=10)\n",
        "\n"
      ],
      "metadata": {
        "colab": {
          "base_uri": "https://localhost:8080/"
        },
        "id": "jBlrjj1-BsiV",
        "outputId": "6a3b0763-1899-4687-be72-966a8e22e94d"
      },
      "execution_count": 21,
      "outputs": [
        {
          "output_type": "stream",
          "name": "stdout",
          "text": [
            "Epoch 1/10\n"
          ]
        },
        {
          "output_type": "stream",
          "name": "stderr",
          "text": [
            "/usr/local/lib/python3.11/dist-packages/keras/src/trainers/data_adapters/py_dataset_adapter.py:121: UserWarning: Your `PyDataset` class should call `super().__init__(**kwargs)` in its constructor. `**kwargs` can include `workers`, `use_multiprocessing`, `max_queue_size`. Do not pass these arguments to `fit()`, as they will be ignored.\n",
            "  self._warn_if_super_not_called()\n"
          ]
        },
        {
          "output_type": "stream",
          "name": "stdout",
          "text": [
            "\u001b[1m2439/2439\u001b[0m \u001b[32m━━━━━━━━━━━━━━━━━━━━\u001b[0m\u001b[37m\u001b[0m \u001b[1m557s\u001b[0m 222ms/step - accuracy: 0.2995 - loss: 1.4980 - val_accuracy: 0.4687 - val_loss: 1.2625\n",
            "Epoch 2/10\n",
            "\u001b[1m2439/2439\u001b[0m \u001b[32m━━━━━━━━━━━━━━━━━━━━\u001b[0m\u001b[37m\u001b[0m \u001b[1m507s\u001b[0m 208ms/step - accuracy: 0.4794 - loss: 1.2334 - val_accuracy: 0.5409 - val_loss: 1.1110\n",
            "Epoch 3/10\n",
            "\u001b[1m2439/2439\u001b[0m \u001b[32m━━━━━━━━━━━━━━━━━━━━\u001b[0m\u001b[37m\u001b[0m \u001b[1m499s\u001b[0m 205ms/step - accuracy: 0.5439 - loss: 1.0948 - val_accuracy: 0.5447 - val_loss: 1.1348\n",
            "Epoch 4/10\n",
            "\u001b[1m2439/2439\u001b[0m \u001b[32m━━━━━━━━━━━━━━━━━━━━\u001b[0m\u001b[37m\u001b[0m \u001b[1m505s\u001b[0m 206ms/step - accuracy: 0.6373 - loss: 0.8985 - val_accuracy: 0.5353 - val_loss: 1.2349\n",
            "Epoch 5/10\n",
            "\u001b[1m2439/2439\u001b[0m \u001b[32m━━━━━━━━━━━━━━━━━━━━\u001b[0m\u001b[37m\u001b[0m \u001b[1m499s\u001b[0m 205ms/step - accuracy: 0.7564 - loss: 0.6329 - val_accuracy: 0.5285 - val_loss: 1.4406\n",
            "Epoch 6/10\n",
            "\u001b[1m2439/2439\u001b[0m \u001b[32m━━━━━━━━━━━━━━━━━━━━\u001b[0m\u001b[37m\u001b[0m \u001b[1m519s\u001b[0m 213ms/step - accuracy: 0.8364 - loss: 0.4432 - val_accuracy: 0.5318 - val_loss: 1.5968\n",
            "Epoch 7/10\n",
            "\u001b[1m2439/2439\u001b[0m \u001b[32m━━━━━━━━━━━━━━━━━━━━\u001b[0m\u001b[37m\u001b[0m \u001b[1m507s\u001b[0m 208ms/step - accuracy: 0.8965 - loss: 0.2928 - val_accuracy: 0.5207 - val_loss: 1.8659\n",
            "Epoch 8/10\n",
            "\u001b[1m2439/2439\u001b[0m \u001b[32m━━━━━━━━━━━━━━━━━━━━\u001b[0m\u001b[37m\u001b[0m \u001b[1m508s\u001b[0m 208ms/step - accuracy: 0.9249 - loss: 0.2169 - val_accuracy: 0.5398 - val_loss: 2.0286\n",
            "Epoch 9/10\n",
            "\u001b[1m2439/2439\u001b[0m \u001b[32m━━━━━━━━━━━━━━━━━━━━\u001b[0m\u001b[37m\u001b[0m \u001b[1m498s\u001b[0m 204ms/step - accuracy: 0.9502 - loss: 0.1464 - val_accuracy: 0.5311 - val_loss: 2.1499\n",
            "Epoch 10/10\n",
            "\u001b[1m2439/2439\u001b[0m \u001b[32m━━━━━━━━━━━━━━━━━━━━\u001b[0m\u001b[37m\u001b[0m \u001b[1m495s\u001b[0m 203ms/step - accuracy: 0.9643 - loss: 0.1064 - val_accuracy: 0.5416 - val_loss: 2.1648\n"
          ]
        },
        {
          "output_type": "execute_result",
          "data": {
            "text/plain": [
              "<keras.src.callbacks.history.History at 0x796bc085bfd0>"
            ]
          },
          "metadata": {},
          "execution_count": 21
        }
      ]
    },
    {
      "cell_type": "code",
      "source": [
        "x_batch, y_batch = train_gen[0]\n",
        "print(\"Input shape:\", x_batch.shape)\n",
        "print(\"Label shape:\", y_batch.shape)\n"
      ],
      "metadata": {
        "colab": {
          "base_uri": "https://localhost:8080/"
        },
        "id": "geBE3Sprbzx-",
        "outputId": "824b9382-a418-45e0-9ed6-c789defc5ea5"
      },
      "execution_count": 36,
      "outputs": [
        {
          "output_type": "stream",
          "name": "stdout",
          "text": [
            "Input shape: (2, 20, 30, 100)\n",
            "Label shape: (2, 20)\n"
          ]
        }
      ]
    },
    {
      "cell_type": "code",
      "source": [
        "from sklearn.metrics import classification_report, confusion_matrix, cohen_kappa_score, f1_score\n",
        "import numpy as np\n",
        "\n",
        "# Predict class probabilities\n",
        "y_probs = model.predict(X_val)\n",
        "y_pred = np.argmax(y_probs, axis=-1)\n",
        "\n",
        "# Flatten if needed\n",
        "y_true = y_val.flatten()\n",
        "y_pred_flat = y_pred.flatten()\n",
        "\n",
        "# Compute metrics\n",
        "print(\"📊 Classification Report:\")\n",
        "print(classification_report(y_true, y_pred_flat))\n",
        "\n",
        "print(\"Cohen’s Kappa:\", cohen_kappa_score(y_true, y_pred_flat))\n",
        "print(\"Macro F1 Score:\", f1_score(y_true, y_pred_flat, average='macro'))\n",
        "\n",
        "print(\"Confusion Matrix:\")\n",
        "print(confusion_matrix(y_true, y_pred_flat))\n"
      ],
      "metadata": {
        "colab": {
          "base_uri": "https://localhost:8080/"
        },
        "id": "RwmserKOCPkx",
        "outputId": "1fcdc872-d3a5-49b7-e554-d21ede97f661"
      },
      "execution_count": 8,
      "outputs": [
        {
          "output_type": "stream",
          "name": "stdout",
          "text": [
            "\u001b[1m19/19\u001b[0m \u001b[32m━━━━━━━━━━━━━━━━━━━━\u001b[0m\u001b[37m\u001b[0m \u001b[1m2s\u001b[0m 71ms/step\n",
            "📊 Classification Report:\n",
            "              precision    recall  f1-score   support\n",
            "\n",
            "           0       0.08      0.35      0.13        60\n",
            "           1       0.25      0.01      0.01       131\n",
            "           2       0.00      0.00      0.00       188\n",
            "           3       0.23      0.24      0.23       168\n",
            "           4       0.12      0.34      0.18        53\n",
            "\n",
            "    accuracy                           0.13       600\n",
            "   macro avg       0.14      0.19      0.11       600\n",
            "weighted avg       0.14      0.13      0.10       600\n",
            "\n",
            "Cohen’s Kappa: -0.020915682835527916\n",
            "Macro F1 Score: 0.11096262477309131\n",
            "Confusion Matrix:\n",
            "[[21  0  0 24 15]\n",
            " [71  1  0 39 20]\n",
            " [90  1  0 54 43]\n",
            " [80  0  0 40 48]\n",
            " [13  2  0 20 18]]\n"
          ]
        },
        {
          "output_type": "stream",
          "name": "stderr",
          "text": [
            "/usr/local/lib/python3.11/dist-packages/sklearn/metrics/_classification.py:1565: UndefinedMetricWarning: Precision is ill-defined and being set to 0.0 in labels with no predicted samples. Use `zero_division` parameter to control this behavior.\n",
            "  _warn_prf(average, modifier, f\"{metric.capitalize()} is\", len(result))\n",
            "/usr/local/lib/python3.11/dist-packages/sklearn/metrics/_classification.py:1565: UndefinedMetricWarning: Precision is ill-defined and being set to 0.0 in labels with no predicted samples. Use `zero_division` parameter to control this behavior.\n",
            "  _warn_prf(average, modifier, f\"{metric.capitalize()} is\", len(result))\n",
            "/usr/local/lib/python3.11/dist-packages/sklearn/metrics/_classification.py:1565: UndefinedMetricWarning: Precision is ill-defined and being set to 0.0 in labels with no predicted samples. Use `zero_division` parameter to control this behavior.\n",
            "  _warn_prf(average, modifier, f\"{metric.capitalize()} is\", len(result))\n"
          ]
        }
      ]
    }
  ],
  "metadata": {
    "colab": {
      "provenance": [],
      "authorship_tag": "ABX9TyNQ8WmmQgYbf5kltB06DMnW",
      "include_colab_link": true
    },
    "kernelspec": {
      "display_name": "Python 3",
      "name": "python3"
    },
    "language_info": {
      "name": "python"
    }
  },
  "nbformat": 4,
  "nbformat_minor": 0
}